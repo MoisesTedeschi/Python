{
 "cells": [
  {
   "cell_type": "code",
   "execution_count": 6,
   "metadata": {},
   "outputs": [
    {
     "name": "stdout",
     "output_type": "stream",
     "text": [
      "Tamanho do Status 97\n",
      "Tamanho do Status 195\n",
      "Tamanho do Status 288\n",
      "Tamanho do Status 382\n",
      "Tamanho do Status 478\n",
      "Tamanho do Status 578\n",
      "Tamanho do Status 673\n",
      "Tamanho do Status 773\n",
      "Tamanho do Status 873\n",
      "Tamanho do Status 973\n"
     ]
    }
   ],
   "source": [
    "import twitter\n",
    "import json\n",
    "from urllib.parse import unquote\n",
    "\n",
    "#Credenciais de acesso ao Twitter\n",
    "CONSUMER_KEY = 'jQcDAPzXorkWPWx7xQLOkm1e9'\n",
    "CONSUMER_SECRET = 'PBWJMcnpOuW1xDnCBLOFHbeydCNkXLrTpBTuWcLU5uQCGQ36N1'\n",
    "OAUTH_TOKEN = '2544081954-JxjB2mUdw3PNnzhboqzyq6nFgKPFCWYw4lfPPyq'\n",
    "OAUTH_TOKEN_SECRET = '71TP3qkhCXtw1c2nnEVJAfRvuy4a078KVBX9c0cQVYIVV'\n",
    "\n",
    "auth = twitter.oauth.OAuth(OAUTH_TOKEN, OAUTH_TOKEN_SECRET, CONSUMER_KEY, CONSUMER_SECRET)\n",
    "twitter_api = twitter.Twitter(auth=auth)\n",
    "\n",
    "q = '#FelizDiaDasMulheres'\n",
    "\n",
    "count = 100\n",
    "\n",
    "search_results = twitter_api.search.tweets(q=q, count=count)\n",
    "\n",
    "statuses = search_results['statuses']\n",
    "\n",
    "for _ in range(10):\n",
    "    print('Tamanho do Status',len(statuses))\n",
    "    try:\n",
    "        next_results = search_results['search_metadata']['next_results']\n",
    "    except KeyError as e:\n",
    "        break\n",
    "        \n",
    "    kwargs = dict([kv.split('=') for kv in unquote(next_results[1:]).split(\"&\")])\n",
    "    \n",
    "    search_results = twitter_api.search.tweets(**kwargs)\n",
    "    \n",
    "    statuses += search_results['statuses']\n",
    "\n",
    "#Mostrar resultados\n",
    "#print(json.dumps(statuses[0],indent=1))"
   ]
  },
  {
   "cell_type": "code",
   "execution_count": 10,
   "metadata": {},
   "outputs": [
    {
     "name": "stdout",
     "output_type": "stream",
     "text": [
      "[\n",
      " \"RT @JoelAlexandreM: Pela primeira vez uma mulher hasteou a bandeira do Brasil em frente ao pal\\u00e1cio do Planalto. #DiaInternacionalDaMulher #\\u2026\",\n",
      " \"RT @LeeMitous: Ent\\u00e3o no dia internacional da MULHER \\u00f4nibus circulam pintados de ROSA. Ora ora ora pq n\\u00e3o azul heinnn? Olha s\\u00f3 fada @Damares\\u2026\",\n",
      " \"#DiaInternacionalDaMulher \\n#FelizDiaDasMulheres\",\n",
      " \"Parabenizamos todas as mulheres, principalmente as que lutam por algo t\\u00e3o simples: o saneamento. Um estudo realizad\\u2026 https://t.co/2XHd9kn7A8\",\n",
      " \"RT @JoelAlexandreM: Pela primeira vez uma mulher hasteou a bandeira do Brasil em frente ao pal\\u00e1cio do Planalto. #DiaInternacionalDaMulher #\\u2026\"\n",
      "]\n",
      "[\n",
      " \"JoelAlexandreM\",\n",
      " \"LeeMitous\",\n",
      " \"JoelAlexandreM\",\n",
      " \"LeeMitous\",\n",
      " \"JoelAlexandreM\"\n",
      "]\n",
      "[\n",
      " \"DiaInternacionalDaMulher\",\n",
      " \"DiaInternacionalDaMulher\",\n",
      " \"FelizDiaDasMulheres\",\n",
      " \"DiaInternacionalDaMulher\",\n",
      " \"FelizDiaDasMulheres\"\n",
      "]\n",
      "[\n",
      " \"RT\",\n",
      " \"@JoelAlexandreM:\",\n",
      " \"Pela\",\n",
      " \"primeira\",\n",
      " \"vez\"\n",
      "]\n"
     ]
    }
   ],
   "source": [
    "status_texts = [status['text']\n",
    "                for status in statuses]\n",
    "\n",
    "screen_names = [user_mention['screen_name']\n",
    "                for status in statuses\n",
    "                   for user_mention in status['entities']['user_mentions']]\n",
    "\n",
    "hashtags = [hashtag['text']\n",
    "            for status in statuses\n",
    "               for hashtag in status['entities']['hashtags']]\n",
    "\n",
    "words = [w\n",
    "         for t in status_texts\n",
    "            for w in t.split()]\n",
    "\n",
    "print(json.dumps(status_texts[0:5],indent=1))\n",
    "print(json.dumps(screen_names[0:5],indent=1))\n",
    "print(json.dumps(hashtags[0:5],indent=1))\n",
    "print(json.dumps(words[0:5],indent=1))"
   ]
  },
  {
   "cell_type": "code",
   "execution_count": null,
   "metadata": {},
   "outputs": [],
   "source": []
  }
 ],
 "metadata": {
  "kernelspec": {
   "display_name": "Python 3",
   "language": "python",
   "name": "python3"
  },
  "language_info": {
   "codemirror_mode": {
    "name": "ipython",
    "version": 3
   },
   "file_extension": ".py",
   "mimetype": "text/x-python",
   "name": "python",
   "nbconvert_exporter": "python",
   "pygments_lexer": "ipython3",
   "version": "3.7.1"
  }
 },
 "nbformat": 4,
 "nbformat_minor": 2
}
