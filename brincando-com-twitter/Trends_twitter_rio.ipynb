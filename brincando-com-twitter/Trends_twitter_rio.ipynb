{
 "cells": [
  {
   "cell_type": "code",
   "execution_count": 4,
   "metadata": {},
   "outputs": [],
   "source": [
    "import twitter\n",
    "import json"
   ]
  },
  {
   "cell_type": "code",
   "execution_count": 5,
   "metadata": {},
   "outputs": [],
   "source": [
    "CONSUMER_KEY = 'jQcDAPzXorkWPWx7xQLOkm1e9'\n",
    "CONSUMER_SECRET = 'PBWJMcnpOuW1xDnCBLOFHbeydCNkXLrTpBTuWcLU5uQCGQ36N1'\n",
    "OAUTH_TOKEN = '2544081954-JxjB2mUdw3PNnzhboqzyq6nFgKPFCWYw4lfPPyq'\n",
    "OAUTH_TOKEN_SECRET = '71TP3qkhCXtw1c2nnEVJAfRvuy4a078KVBX9c0cQVYIVV'\n",
    "\n",
    "auth = twitter.oauth.OAuth(OAUTH_TOKEN, OAUTH_TOKEN_SECRET, CONSUMER_KEY, CONSUMER_SECRET)\n",
    "\n",
    "twitter_api = twitter.Twitter(auth=auth)"
   ]
  },
  {
   "cell_type": "code",
   "execution_count": 9,
   "metadata": {},
   "outputs": [],
   "source": [
    "#Basicamente os \"IDs das localidades\" - Site utilizado: http://woeid.rosselliot.co.nz\n",
    "WORLD_WOE_ID = 1\n",
    "RIO_WOE_ID = 455825\n",
    "SAO_PAULO_WOE_ID = 455827\n",
    "BRAZIL_WOE_ID = 23424768\n",
    "\n",
    "world_trends = twitter_api.trends.place(_id=WORLD_WOE_ID)\n",
    "brazil_trends = twitter_api.trends.place(_id=BRAZIL_WOE_ID)\n",
    "rio_trends = twitter_api.trends.place(_id=RIO_WOE_ID)\n",
    "sao_paulo_trends = twitter_api.trends.place(_id=SAO_PAULO_WOE_ID)\n",
    "\n",
    "#print(json.dumps(world_trends, indent=1))"
   ]
  },
  {
   "cell_type": "code",
   "execution_count": 17,
   "metadata": {},
   "outputs": [
    {
     "name": "stdout",
     "output_type": "stream",
     "text": [
      "{'#슈가생일ᄎᄏ', '#8M2019', '#WhatAReliefYoongiWasBorn', '#GreatestTaeyeonDay', '#HAPPYSUGADAY', '#윤기_멋대로_살아_전부_니꺼야', '#GlowingMinPDay', '#InternationalWomensDay', '#YoongiLetsDreamTogether', 'Min Yoongi', 'Dante', '#StaySelcaDay', 'HAPPY BIRTHDAY YOONGI', '#YoongiDay', '#DiadaMulher', '#OurFirstLoveYoongi', '#MinstradamusDay'}\n"
     ]
    }
   ],
   "source": [
    "world_trends_set     = set([trend['name'] for trend in world_trends[0]['trends']])\n",
    "brazil_trends_set    = set([trend['name'] for trend in brazil_trends[0]['trends']])\n",
    "rio_trends_set       = set([trend['name'] for trend in rio_trends[0]['trends']])\n",
    "sao_paulo_trends_set = set([trend['name'] for trend in sao_paulo_trends[0]['trends']])\n",
    "\n",
    "#Trends do mundo que, também, estão bombando no Brasil\n",
    "common_trends       = world_trends_set.intersection(brazil_trends_set)\n",
    "\n",
    "#Trends em tempo real no Rio e SP\n",
    "common_trends_state = rio_trends_set.intersection(sao_paulo_trends_set)\n",
    "\n",
    "#Trends pelo mundo e no Rio de Janeiro\n",
    "common_trends_state_in_rio = rio_trends_set.intersection(world_trends_set)\n",
    "\n",
    "#Trends pelo mundo e no São Paulo\n",
    "common_trends_state_in_sp = sao_paulo_trends_set.intersection(world_trends_set)\n",
    "\n",
    "common_trends_all_inter = common_trends.intersection(common_trends_state_in_rio, common_trends_state_in_sp)\n",
    "\n",
    "print(common_trends_all_inter)"
   ]
  }
 ],
 "metadata": {
  "kernelspec": {
   "display_name": "Python 3",
   "language": "python",
   "name": "python3"
  },
  "language_info": {
   "codemirror_mode": {
    "name": "ipython",
    "version": 3
   },
   "file_extension": ".py",
   "mimetype": "text/x-python",
   "name": "python",
   "nbconvert_exporter": "python",
   "pygments_lexer": "ipython3",
   "version": "3.7.1"
  }
 },
 "nbformat": 4,
 "nbformat_minor": 2
}
