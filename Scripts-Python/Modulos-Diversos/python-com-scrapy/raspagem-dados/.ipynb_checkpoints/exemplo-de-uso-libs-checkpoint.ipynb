{
 "cells": [
  {
   "cell_type": "code",
   "execution_count": 9,
   "metadata": {},
   "outputs": [],
   "source": [
    "import requests\n",
    "from bs4 import BeautifulSoup"
   ]
  },
  {
   "cell_type": "code",
   "execution_count": 25,
   "metadata": {},
   "outputs": [],
   "source": [
    "# Efetuando requisição de uma página qualquer\n",
    "r = requests.get('http://www.gilenofilho.com.br')"
   ]
  },
  {
   "cell_type": "code",
   "execution_count": 16,
   "metadata": {},
   "outputs": [
    {
     "data": {
      "text/plain": [
       "200"
      ]
     },
     "execution_count": 16,
     "metadata": {},
     "output_type": "execute_result"
    }
   ],
   "source": [
    "# Verificando o estatus do retorno do código.\n",
    "r.status_code"
   ]
  },
  {
   "cell_type": "code",
   "execution_count": 26,
   "metadata": {},
   "outputs": [],
   "source": [
    "# Utilizando a lib beautifulsoupe para parsear o html\n",
    "# r.text - Mostra todo o HTML da página\n",
    "soup = BeautifulSoup(r.text, 'html.parser')"
   ]
  },
  {
   "cell_type": "code",
   "execution_count": 20,
   "metadata": {},
   "outputs": [
    {
     "data": {
      "text/plain": [
       "<title>Gileno Filho</title>"
      ]
     },
     "execution_count": 20,
     "metadata": {},
     "output_type": "execute_result"
    }
   ],
   "source": [
    "# Método para buscar o H1 da págin.\n",
    "soup.find('title')"
   ]
  },
  {
   "cell_type": "code",
   "execution_count": 23,
   "metadata": {},
   "outputs": [
    {
     "name": "stdout",
     "output_type": "stream",
     "text": [
      "<h3 class=\"ctitle\">Bibliotecas Python para carregar Dataset's</h3>\n",
      "<h3 class=\"ctitle\">Como funciona o ORM do Django</h3>\n",
      "<h3 class=\"ctitle\">Curso Gratuito de Django com Python 3</h3>\n",
      "<h3 class=\"ctitle\">Programação, felicidade, mercado e outras coisas...</h3>\n",
      "<h3 class=\"ctitle\">Usando o Scrapy e o Rethinkdb para capturar e armazenar dados imobiliários - Parte III</h3>\n"
     ]
    }
   ],
   "source": [
    "# Método para puxar todos os links e títulos com H3 da página.\n",
    "links = soup.find_all('h3', attrs={'class': 'ctitle'})\n",
    "for link in links:\n",
    "    print(link)\n"
   ]
  }
 ],
 "metadata": {
  "kernelspec": {
   "display_name": "Python 3",
   "language": "python",
   "name": "python3"
  },
  "language_info": {
   "codemirror_mode": {
    "name": "ipython",
    "version": 3
   },
   "file_extension": ".py",
   "mimetype": "text/x-python",
   "name": "python",
   "nbconvert_exporter": "python",
   "pygments_lexer": "ipython3",
   "version": "3.7.1"
  }
 },
 "nbformat": 4,
 "nbformat_minor": 2
}
