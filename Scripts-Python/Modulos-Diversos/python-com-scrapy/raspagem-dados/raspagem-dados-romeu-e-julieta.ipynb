{
 "cells": [
  {
   "cell_type": "code",
   "execution_count": 1,
   "metadata": {},
   "outputs": [],
   "source": [
    "\"\"\"\n",
    "Raspagem de dados - Romeu e Julieta\n",
    "Created: 16/04/2019\n",
    "@author: Moisés Tedeschi\n",
    "\"\"\"\n",
    "\n",
    "import requests"
   ]
  },
  {
   "cell_type": "code",
   "execution_count": 27,
   "metadata": {},
   "outputs": [],
   "source": [
    "res = requests.get('http://automatetheboringstuff.com/files/rj.txt')"
   ]
  },
  {
   "cell_type": "code",
   "execution_count": 28,
   "metadata": {},
   "outputs": [
    {
     "name": "stdout",
     "output_type": "stream",
     "text": [
      "Tamanho do arquivo: 178978\n"
     ]
    }
   ],
   "source": [
    "try:\n",
    "    res.raise_for_status()\n",
    "    print(f\"Tamanho do arquivo: {str(len(res.text))}\")\n",
    "    \n",
    "    # Salvando conteúdo raspado em um arqivo TXT (\"wb\") - recomendação salva em binário.\n",
    "    file = open(\"RomeuEJulieta.txt\", \"wb\")\n",
    "    \n",
    "    # Para cada pedaço (chunk) do texto (100 mil bytes), o laço pega o conteúdo e salva em disco. \n",
    "    for chunk in res.iter_content(100000):\n",
    "        # Salvado os bytes baixados e salvando no arquivo.\n",
    "        file.write(chunk)\n",
    "    \n",
    "    # print(f\"\\nConteúdo do arquivo:\\n\\n{res.text}\")\n",
    "    \n",
    "except Exception as exc:\n",
    "    print(f\"Houve um erro: {exc}\")"
   ]
  },
  {
   "cell_type": "code",
   "execution_count": null,
   "metadata": {},
   "outputs": [],
   "source": []
  }
 ],
 "metadata": {
  "kernelspec": {
   "display_name": "Python 3",
   "language": "python",
   "name": "python3"
  },
  "language_info": {
   "codemirror_mode": {
    "name": "ipython",
    "version": 3
   },
   "file_extension": ".py",
   "mimetype": "text/x-python",
   "name": "python",
   "nbconvert_exporter": "python",
   "pygments_lexer": "ipython3",
   "version": "3.7.1"
  }
 },
 "nbformat": 4,
 "nbformat_minor": 2
}
