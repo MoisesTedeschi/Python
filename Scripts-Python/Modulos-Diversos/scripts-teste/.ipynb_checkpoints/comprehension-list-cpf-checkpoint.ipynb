{
 "cells": [
  {
   "cell_type": "markdown",
   "metadata": {},
   "source": [
    "# Exemplo: Cálculo do CPF\n",
    "Seja o CPF escrito da forma ABC.DEF.GHI-JK\n",
    "\n",
    "Temos que J e K são respectivamente o primeiro e segundo dígito verificador.\n",
    "\n",
    "## Primeiro dígito\n",
    "Calcular a soma: 10A + 9B + 8C + 7D + 6E + 5F + 4G + 3H + 2I e dividir o resultado por 11.\n",
    "\n",
    "Se o resto for 0 ou 1: o dígito será 0\n",
    "\n",
    "Caso contrário o dígito J será (11 - resto)\n",
    "\n",
    "## Segundo dígito\n",
    "Realizamos um procedimento parecido com o do primeiro dígito, porém calculamos a soma de:\n",
    "\n",
    "11A + 10B + 9C + 8D + 7E + 6F + 5G + 4H + 3I + 2J e dividimos o resultado por 11.\n",
    "\n",
    "Se o resto for 0 ou 1: o dígito será 0\n",
    "\n",
    "Caso contrário o dígito K será (11 - resto)"
   ]
  },
  {
   "cell_type": "code",
   "execution_count": 3,
   "metadata": {},
   "outputs": [
    {
     "name": "stdout",
     "output_type": "stream",
     "text": [
      "2 5\n"
     ]
    }
   ],
   "source": [
    "# Mesmo programa versão mais avançada\n",
    "cpf = '105.060.997-25'\n",
    "# Para cada um dos elemento acima, virificamos se são digitos e é usada a função \"int\".\n",
    "# Ignorando os últimos dois elementos.\n",
    "cpf = [int(d) for d in cpf if d.isdigit()][:-2]\n",
    "\n",
    "# 10A + 9B + 8C + 7D + 6E + 5F + 4G + 3H + 2I e dividir o resultado por 11.\n",
    "# Pegando valores de trás pra frente.\n",
    "valores = list(range(2,11))[::-1]\n",
    "\n",
    "# Usando uma list comprehension com a função \"ZIP\".\n",
    "# A função zip vai criar uma tupla com vários elementos. Um deles vai vir do CPF e outro dos \"valores\".\n",
    "resto = sum([a*b for (a,b) in zip(cpf,valores)])%11\n",
    "J = 0 if resto in [0,1] else 11-resto\n",
    "\n",
    "cpf.append(J)\n",
    "\n",
    "# 11A + 10B + 9C + 8D + 7E + 6F + 5G + 4H + 3I + 2J e dividimos o resultado por 11.\n",
    "# Pegando valores de trás pra frente.\n",
    "valores = list(range(2,12))[::-1]\n",
    "\n",
    "# Usando uma list comprehension com a função \"ZIP\".\n",
    "# A função zip vai criar uma tupla com vários elementos. Um deles vai vir do CPF e outro dos \"valores\".\n",
    "resto = sum([a*b for a,b in zip(cpf,valores)])%11\n",
    "K = 0 if resto in [0,1] else 11-resto\n",
    "\n",
    "print(J,K)"
   ]
  },
  {
   "cell_type": "markdown",
   "metadata": {},
   "source": [
    "# Função zip\n",
    "\n",
    "Utilizada para empacotar um ou mais objetos iteráveis"
   ]
  }
 ],
 "metadata": {
  "kernelspec": {
   "display_name": "Python 3",
   "language": "python",
   "name": "python3"
  },
  "language_info": {
   "codemirror_mode": {
    "name": "ipython",
    "version": 3
   },
   "file_extension": ".py",
   "mimetype": "text/x-python",
   "name": "python",
   "nbconvert_exporter": "python",
   "pygments_lexer": "ipython3",
   "version": "3.7.1"
  }
 },
 "nbformat": 4,
 "nbformat_minor": 2
}
