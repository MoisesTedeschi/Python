{
 "cells": [
  {
   "cell_type": "markdown",
   "metadata": {},
   "source": [
    "# Arquivos JSON\n",
    "Os arquivos JSON são muito utilizados na web e armazenam dados de uma forma simples e que podem ser facilmente lidas por um ser humano. \n",
    "\n",
    "Em python podemos utilizar a biblioteca **json** e seus principais métodos"
   ]
  },
  {
   "cell_type": "markdown",
   "metadata": {},
   "source": [
    "## Importando Bibliotecas utilizadas"
   ]
  },
  {
   "cell_type": "code",
   "execution_count": 1,
   "metadata": {},
   "outputs": [],
   "source": [
    "import json                # Auxilia trabalhar com o formato JSON (JavaScript Object Notation)\n",
    "from pprint import pprint  # Escreve na tela de um modo mais legível"
   ]
  },
  {
   "cell_type": "markdown",
   "metadata": {},
   "source": [
    "## Criando Dados"
   ]
  },
  {
   "cell_type": "code",
   "execution_count": 2,
   "metadata": {},
   "outputs": [],
   "source": [
    "dados = [('João','92345-6789'),\n",
    "         ('Maria','99999-8989')]\n",
    "pessoas = [{'nome':nome,'telefone':telefone} for (nome,telefone) in dados]"
   ]
  },
  {
   "cell_type": "markdown",
   "metadata": {},
   "source": [
    "## Escrevendo um arquivo no formato JSON"
   ]
  },
  {
   "cell_type": "code",
   "execution_count": 3,
   "metadata": {},
   "outputs": [],
   "source": [
    "with open('arquivos\\\\arquivo2.txt',mode='w',encoding='utf-8') as arq:\n",
    "    json.dump(pessoas,arq)"
   ]
  },
  {
   "cell_type": "markdown",
   "metadata": {},
   "source": [
    "## Lendo um arquivo no formato JSON"
   ]
  },
  {
   "cell_type": "code",
   "execution_count": 4,
   "metadata": {},
   "outputs": [
    {
     "name": "stdout",
     "output_type": "stream",
     "text": [
      "[{'nome': 'João', 'telefone': '92345-6789'}, {'nome': 'Maria', 'telefone': '99999-8989'}]\n"
     ]
    }
   ],
   "source": [
    "with open('arquivos\\\\arquivo2.txt',mode='r',encoding='utf-8') as arq:\n",
    "    x = json.load(arq)\n",
    "print(x)"
   ]
  },
  {
   "cell_type": "markdown",
   "metadata": {},
   "source": [
    "### Exemplo prático do uso do Json"
   ]
  },
  {
   "cell_type": "code",
   "execution_count": 5,
   "metadata": {},
   "outputs": [
    {
     "name": "stdout",
     "output_type": "stream",
     "text": [
      "{'etag': '\"m2yskBQFythfE4irbTIeOgYYfBU/PaiEDiVxOyCWelLPuuwa9LKz3Gk\"',\n",
      " 'items': [{'etag': '\"m2yskBQFythfE4irbTIeOgYYfBU/QpOIr3QKlV5EUlzfFcVvDiJT0hw\"',\n",
      "            'id': {'channelId': 'UCJowOS1R0FnhipXVqEnYU1A',\n",
      "                   'kind': 'youtube#channel'},\n",
      "            'kind': 'youtube#searchResult'},\n",
      "           {'etag': '\"m2yskBQFythfE4irbTIeOgYYfBU/AWutzVOt_5p1iLVifyBdfoSTf9E\"',\n",
      "            'id': {'kind': 'youtube#video', 'videoId': 'Eqa2nAAhHN0'},\n",
      "            'kind': 'youtube#searchResult'},\n",
      "           {'etag': '\"m2yskBQFythfE4irbTIeOgYYfBU/2dIR9BTfr7QphpBuY3hPU-h5u-4\"',\n",
      "            'id': {'kind': 'youtube#video', 'videoId': 'IirngItQuVs'},\n",
      "            'kind': 'youtube#searchResult'}],\n",
      " 'kind': 'youtube#searchListResponse',\n",
      " 'nextPageToken': 'CAUQAA',\n",
      " 'pageInfo': {'resultsPerPage': 5, 'totalResults': 4249},\n",
      " 'regionCode': 'KE'}\n"
     ]
    }
   ],
   "source": [
    "with open('arquivos\\\\exemplo_json.txt',mode='r',encoding='utf-8') as arq: # Dados obtidos de uma busca através da API do Youtube\n",
    "    x = json.load(arq)\n",
    "pprint(x)"
   ]
  },
  {
   "cell_type": "code",
   "execution_count": 6,
   "metadata": {},
   "outputs": [
    {
     "name": "stdout",
     "output_type": "stream",
     "text": [
      "{'kind': 'youtube#searchListResponse', 'etag': '\"m2yskBQFythfE4irbTIeOgYYfBU/PaiEDiVxOyCWelLPuuwa9LKz3Gk\"', 'nextPageToken': 'CAUQAA', 'regionCode': 'KE', 'pageInfo': {'totalResults': 4249, 'resultsPerPage': 5}, 'items': [{'kind': 'youtube#searchResult', 'etag': '\"m2yskBQFythfE4irbTIeOgYYfBU/QpOIr3QKlV5EUlzfFcVvDiJT0hw\"', 'id': {'kind': 'youtube#channel', 'channelId': 'UCJowOS1R0FnhipXVqEnYU1A'}}, {'kind': 'youtube#searchResult', 'etag': '\"m2yskBQFythfE4irbTIeOgYYfBU/AWutzVOt_5p1iLVifyBdfoSTf9E\"', 'id': {'kind': 'youtube#video', 'videoId': 'Eqa2nAAhHN0'}}, {'kind': 'youtube#searchResult', 'etag': '\"m2yskBQFythfE4irbTIeOgYYfBU/2dIR9BTfr7QphpBuY3hPU-h5u-4\"', 'id': {'kind': 'youtube#video', 'videoId': 'IirngItQuVs'}}]}\n"
     ]
    }
   ],
   "source": [
    "print(x) # Imprimindo normalmente torna difícil a visualização deste tipo de dado"
   ]
  }
 ],
 "metadata": {
  "kernelspec": {
   "display_name": "Python 3",
   "language": "python",
   "name": "python3"
  },
  "language_info": {
   "codemirror_mode": {
    "name": "ipython",
    "version": 3
   },
   "file_extension": ".py",
   "mimetype": "text/x-python",
   "name": "python",
   "nbconvert_exporter": "python",
   "pygments_lexer": "ipython3",
   "version": "3.6.6"
  },
  "varInspector": {
   "cols": {
    "lenName": 16,
    "lenType": 16,
    "lenVar": 40
   },
   "kernels_config": {
    "python": {
     "delete_cmd_postfix": "",
     "delete_cmd_prefix": "del ",
     "library": "var_list.py",
     "varRefreshCmd": "print(var_dic_list())"
    },
    "r": {
     "delete_cmd_postfix": ") ",
     "delete_cmd_prefix": "rm(",
     "library": "var_list.r",
     "varRefreshCmd": "cat(var_dic_list()) "
    }
   },
   "types_to_exclude": [
    "module",
    "function",
    "builtin_function_or_method",
    "instance",
    "_Feature"
   ],
   "window_display": false
  }
 },
 "nbformat": 4,
 "nbformat_minor": 2
}
