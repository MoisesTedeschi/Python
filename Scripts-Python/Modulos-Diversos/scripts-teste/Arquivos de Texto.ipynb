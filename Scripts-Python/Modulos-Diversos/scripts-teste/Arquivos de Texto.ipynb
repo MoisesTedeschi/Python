{
 "cells": [
  {
   "cell_type": "markdown",
   "metadata": {},
   "source": [
    "# Arquivos\n",
    "Ao executar algum programa muitas vezes devemos salvar o resultado das operações em disco para posterior acesso ou podemos necessitar processar arquivos em disco (HD) gerados por um usuário ou outra aplicação.\n",
    "\n",
    "Em python usamos o comando **open** para manipular arquivos.\n",
    "\n",
    "Para utilizar um arquivo devemos primeiramente abrir o mesmo e fechá-lo após terminar de utilizá-lo."
   ]
  },
  {
   "cell_type": "code",
   "execution_count": null,
   "metadata": {},
   "outputs": [],
   "source": [
    "frases = ['o céu é azul.','João é um menino.']\n",
    "\n",
    "arq = open('arquivos\\\\arquivo.txt',mode='w') # modo w = escrever um arquivo\n",
    "for frase in frases:\n",
    "    arq.write(frase)\n",
    "arq.close()"
   ]
  },
  {
   "cell_type": "markdown",
   "metadata": {},
   "source": [
    "Na captura de tela podemos ver que não há quebra de linha entre as frases.\n",
    "A função write não faz isso. Devemos colocar manualmente.\n",
    "<img src = \"img/arquivos1.png\">\n",
    "\n",
    "Para isso podemos fazer uma pequena mudança e adicionar \"\\n\" ao final de cada frase.\n",
    "\n",
    "``` python\n",
    "arq = open('arquivos\\\\arquivo.txt',mode='w')\n",
    "for frase in frases:\n",
    "    arq.write(frase+'\\n')\n",
    "arq.close()\n",
    "```\n",
    "<img src = \"img/arquivos2.png\">\n",
    "\n",
    "Alguns tipos de caracteres precisam de uma codificação apropriada para serem salvos nos arquivos. \n",
    "\n",
    "Nesses casos podemos utilizar a codificação unicode utf-8 por exemplo.\n",
    "\n",
    "Tentar executar o código abaixo irá gerar erro, pois o arquivo de texto padrão não suporta caracteres em japonês."
   ]
  },
  {
   "cell_type": "code",
   "execution_count": 1,
   "metadata": {},
   "outputs": [
    {
     "ename": "UnicodeEncodeError",
     "evalue": "'charmap' codec can't encode characters in position 0-19: character maps to <undefined>",
     "output_type": "error",
     "traceback": [
      "\u001b[1;31m---------------------------------------------------------------------------\u001b[0m",
      "\u001b[1;31mUnicodeEncodeError\u001b[0m                        Traceback (most recent call last)",
      "\u001b[1;32m<ipython-input-1-72f14b1be1f8>\u001b[0m in \u001b[0;36m<module>\u001b[1;34m()\u001b[0m\n\u001b[0;32m      2\u001b[0m \u001b[0marq\u001b[0m \u001b[1;33m=\u001b[0m \u001b[0mopen\u001b[0m\u001b[1;33m(\u001b[0m\u001b[1;34m'arquivos\\\\arquivo.txt'\u001b[0m\u001b[1;33m,\u001b[0m\u001b[0mmode\u001b[0m\u001b[1;33m=\u001b[0m\u001b[1;34m'w'\u001b[0m\u001b[1;33m)\u001b[0m\u001b[1;33m\u001b[0m\u001b[0m\n\u001b[0;32m      3\u001b[0m \u001b[1;32mfor\u001b[0m \u001b[0mfrase\u001b[0m \u001b[1;32min\u001b[0m \u001b[0mfrases\u001b[0m\u001b[1;33m:\u001b[0m\u001b[1;33m\u001b[0m\u001b[0m\n\u001b[1;32m----> 4\u001b[1;33m     \u001b[0marq\u001b[0m\u001b[1;33m.\u001b[0m\u001b[0mwrite\u001b[0m\u001b[1;33m(\u001b[0m\u001b[0mfrase\u001b[0m\u001b[1;33m+\u001b[0m\u001b[1;34m'\\n'\u001b[0m\u001b[1;33m)\u001b[0m\u001b[1;33m\u001b[0m\u001b[0m\n\u001b[0m\u001b[0;32m      5\u001b[0m \u001b[0marq\u001b[0m\u001b[1;33m.\u001b[0m\u001b[0mclose\u001b[0m\u001b[1;33m(\u001b[0m\u001b[1;33m)\u001b[0m\u001b[1;33m\u001b[0m\u001b[0m\n",
      "\u001b[1;32m~\\Anaconda3-64bits\\envs\\tensorflow\\lib\\encodings\\cp1252.py\u001b[0m in \u001b[0;36mencode\u001b[1;34m(self, input, final)\u001b[0m\n\u001b[0;32m     17\u001b[0m \u001b[1;32mclass\u001b[0m \u001b[0mIncrementalEncoder\u001b[0m\u001b[1;33m(\u001b[0m\u001b[0mcodecs\u001b[0m\u001b[1;33m.\u001b[0m\u001b[0mIncrementalEncoder\u001b[0m\u001b[1;33m)\u001b[0m\u001b[1;33m:\u001b[0m\u001b[1;33m\u001b[0m\u001b[0m\n\u001b[0;32m     18\u001b[0m     \u001b[1;32mdef\u001b[0m \u001b[0mencode\u001b[0m\u001b[1;33m(\u001b[0m\u001b[0mself\u001b[0m\u001b[1;33m,\u001b[0m \u001b[0minput\u001b[0m\u001b[1;33m,\u001b[0m \u001b[0mfinal\u001b[0m\u001b[1;33m=\u001b[0m\u001b[1;32mFalse\u001b[0m\u001b[1;33m)\u001b[0m\u001b[1;33m:\u001b[0m\u001b[1;33m\u001b[0m\u001b[0m\n\u001b[1;32m---> 19\u001b[1;33m         \u001b[1;32mreturn\u001b[0m \u001b[0mcodecs\u001b[0m\u001b[1;33m.\u001b[0m\u001b[0mcharmap_encode\u001b[0m\u001b[1;33m(\u001b[0m\u001b[0minput\u001b[0m\u001b[1;33m,\u001b[0m\u001b[0mself\u001b[0m\u001b[1;33m.\u001b[0m\u001b[0merrors\u001b[0m\u001b[1;33m,\u001b[0m\u001b[0mencoding_table\u001b[0m\u001b[1;33m)\u001b[0m\u001b[1;33m[\u001b[0m\u001b[1;36m0\u001b[0m\u001b[1;33m]\u001b[0m\u001b[1;33m\u001b[0m\u001b[0m\n\u001b[0m\u001b[0;32m     20\u001b[0m \u001b[1;33m\u001b[0m\u001b[0m\n\u001b[0;32m     21\u001b[0m \u001b[1;32mclass\u001b[0m \u001b[0mIncrementalDecoder\u001b[0m\u001b[1;33m(\u001b[0m\u001b[0mcodecs\u001b[0m\u001b[1;33m.\u001b[0m\u001b[0mIncrementalDecoder\u001b[0m\u001b[1;33m)\u001b[0m\u001b[1;33m:\u001b[0m\u001b[1;33m\u001b[0m\u001b[0m\n",
      "\u001b[1;31mUnicodeEncodeError\u001b[0m: 'charmap' codec can't encode characters in position 0-19: character maps to <undefined>"
     ]
    }
   ],
   "source": [
    "frases = ['何事も始めるのに遅すぎるということはない','Nunca é tarde para começar algo']\n",
    "arq = open('arquivos\\\\arquivo.txt',mode='w')\n",
    "for frase in frases:\n",
    "    arq.write(frase+'\\n')\n",
    "arq.close()"
   ]
  },
  {
   "cell_type": "markdown",
   "metadata": {},
   "source": [
    "``` python\n",
    "arq = open('arquivos\\\\arquivo.txt',mode='w',encoding='utf-8')\n",
    "for frase in frases:\n",
    "    arq.write(frase+'\\n')\n",
    "arq.close()\n",
    "```\n",
    "Ao realizar a modificação conseguimos salvar de forma adequada os caracteres, como mostrado na imagem.\n",
    "<img src = \"img/arquivos3.png\">"
   ]
  },
  {
   "cell_type": "markdown",
   "metadata": {},
   "source": [
    "## Modos de abrir o arquivo de texto\n",
    "Ao manipular um arquivo podemos abri-lo de vários modos diferentes:\n",
    "* 'r' : quando o arquivo irá apenas ser lido.\n",
    "* 'w' : somente para escrever (se houver um arquivo existente com o mesmo nome este será apagado)\n",
    "* 'a' : abre o arquivo para acrescentar; qualquer dado escrito no arquivo será automaticamente adicionado no final.\n",
    "* 'r+': abre o arquivo para escrita e leitura. (pouco utilizado, geralmente ou abre-se o arquivo para ler ou para escrever)\n",
    " \n",
    " Para garantir também corretamente a abertura e fechamento do arquivo podemos utilizar a palavra reservada **with** que garante automaticamente isso. Ela é equivalente a utilizar:\n",
    " ```python\n",
    "try:\n",
    "    arq = open('arquivo.txt',mode='w',encoding='utf-8')\n",
    "finally:\n",
    "    arq.close()\n",
    "```"
   ]
  },
  {
   "cell_type": "code",
   "execution_count": 6,
   "metadata": {},
   "outputs": [],
   "source": [
    "arq = open('arquivos\\\\arquivo.txt',mode='w',encoding='utf-8')\n",
    "for frase in frases:\n",
    "    arq.write(frase+'\\n')\n",
    "arq.close()"
   ]
  },
  {
   "cell_type": "markdown",
   "metadata": {},
   "source": [
    "### Podemos ler um arquivo no disco de várias maneiras\n",
    "Abaixo veremos alguns exemplos equivalentes, pode-se usar o que achar mais adequado."
   ]
  },
  {
   "cell_type": "code",
   "execution_count": 5,
   "metadata": {},
   "outputs": [
    {
     "name": "stdout",
     "output_type": "stream",
     "text": [
      "何事も始めるのに遅すぎるということはない\n",
      "Nunca é tarde para começar algo\n"
     ]
    }
   ],
   "source": [
    "with open('arquivos\\\\arquivo.txt',mode='r',encoding='utf-8') as arq:\n",
    "    for line in arq.readlines():\n",
    "        print(line,end='') # O arquivo de texto já tem quebra de linha então removemos para não haver um espaçamento extra"
   ]
  },
  {
   "cell_type": "code",
   "execution_count": 7,
   "metadata": {},
   "outputs": [
    {
     "name": "stdout",
     "output_type": "stream",
     "text": [
      "何事も始めるのに遅すぎるということはない\n",
      "Nunca é tarde para começar algo\n"
     ]
    }
   ],
   "source": [
    "with open('arquivos\\\\arquivo.txt',mode='r',encoding='utf-8') as arq:\n",
    "    for line in arq.readlines():\n",
    "        print(line.strip())"
   ]
  },
  {
   "cell_type": "code",
   "execution_count": 8,
   "metadata": {},
   "outputs": [
    {
     "name": "stdout",
     "output_type": "stream",
     "text": [
      "何事も始めるのに遅すぎるということはない\n",
      "Nunca é tarde para começar algo\n"
     ]
    }
   ],
   "source": [
    "with open('arquivos\\\\arquivo.txt',mode='r',encoding='utf-8') as arq:\n",
    "    for line in arq:\n",
    "        print(line,end='')"
   ]
  },
  {
   "cell_type": "code",
   "execution_count": 9,
   "metadata": {},
   "outputs": [
    {
     "name": "stdout",
     "output_type": "stream",
     "text": [
      "何事も始めるのに遅すぎるということはない\n",
      "Nunca é tarde para começar algo\n"
     ]
    }
   ],
   "source": [
    "with open('arquivos\\\\arquivo.txt',mode='r',encoding='utf-8') as arq:\n",
    "    while True:\n",
    "        line = arq.readline()\n",
    "        print(line,end='')\n",
    "        if not line:\n",
    "            break"
   ]
  },
  {
   "cell_type": "markdown",
   "metadata": {},
   "source": [
    "### Podemos utilizar o modo append para adicionar um registro ao fim do arquivo"
   ]
  },
  {
   "cell_type": "code",
   "execution_count": 10,
   "metadata": {},
   "outputs": [
    {
     "name": "stdout",
     "output_type": "stream",
     "text": [
      "何事も始めるのに遅すぎるということはない\n",
      "Nunca é tarde para começar algo\n",
      "я не говорю по-русски\n",
      "Eu não falo russo."
     ]
    }
   ],
   "source": [
    "with open('arquivos\\\\arquivo.txt',mode='a',encoding='utf-8') as arq:\n",
    "    arq.write('я не говорю по-русски'+'\\n')\n",
    "    arq.write('Eu não falo russo.')\n",
    "\n",
    "with open('arquivos\\\\arquivo.txt',mode='r',encoding='utf-8') as arq:\n",
    "    for line in arq:\n",
    "        print(line,end='')"
   ]
  },
  {
   "cell_type": "markdown",
   "metadata": {},
   "source": [
    "#### Tentar ler um arquivo que não está aberto gera uma exceção"
   ]
  },
  {
   "cell_type": "code",
   "execution_count": 11,
   "metadata": {},
   "outputs": [
    {
     "ename": "ValueError",
     "evalue": "I/O operation on closed file.",
     "output_type": "error",
     "traceback": [
      "\u001b[1;31m---------------------------------------------------------------------------\u001b[0m",
      "\u001b[1;31mValueError\u001b[0m                                Traceback (most recent call last)",
      "\u001b[1;32m<ipython-input-11-43a198b4fb5f>\u001b[0m in \u001b[0;36m<module>\u001b[1;34m()\u001b[0m\n\u001b[1;32m----> 1\u001b[1;33m \u001b[0mline\u001b[0m \u001b[1;33m=\u001b[0m \u001b[0marq\u001b[0m\u001b[1;33m.\u001b[0m\u001b[0mreadline\u001b[0m\u001b[1;33m(\u001b[0m\u001b[1;33m)\u001b[0m\u001b[1;33m\u001b[0m\u001b[0m\n\u001b[0m\u001b[0;32m      2\u001b[0m \u001b[0mprint\u001b[0m\u001b[1;33m(\u001b[0m\u001b[0mline\u001b[0m\u001b[1;33m)\u001b[0m\u001b[1;33m\u001b[0m\u001b[0m\n",
      "\u001b[1;31mValueError\u001b[0m: I/O operation on closed file."
     ]
    }
   ],
   "source": [
    "line = arq.readline()\n",
    "print(line)"
   ]
  }
 ],
 "metadata": {
  "kernelspec": {
   "display_name": "Python 3",
   "language": "python",
   "name": "python3"
  },
  "language_info": {
   "codemirror_mode": {
    "name": "ipython",
    "version": 3
   },
   "file_extension": ".py",
   "mimetype": "text/x-python",
   "name": "python",
   "nbconvert_exporter": "python",
   "pygments_lexer": "ipython3",
   "version": "3.6.6"
  },
  "varInspector": {
   "cols": {
    "lenName": 16,
    "lenType": 16,
    "lenVar": 40
   },
   "kernels_config": {
    "python": {
     "delete_cmd_postfix": "",
     "delete_cmd_prefix": "del ",
     "library": "var_list.py",
     "varRefreshCmd": "print(var_dic_list())"
    },
    "r": {
     "delete_cmd_postfix": ") ",
     "delete_cmd_prefix": "rm(",
     "library": "var_list.r",
     "varRefreshCmd": "cat(var_dic_list()) "
    }
   },
   "types_to_exclude": [
    "module",
    "function",
    "builtin_function_or_method",
    "instance",
    "_Feature"
   ],
   "window_display": false
  }
 },
 "nbformat": 4,
 "nbformat_minor": 2
}
