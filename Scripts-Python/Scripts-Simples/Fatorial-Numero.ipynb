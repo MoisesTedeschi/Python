{
 "cells": [
  {
   "cell_type": "code",
   "execution_count": 4,
   "metadata": {},
   "outputs": [
    {
     "name": "stdout",
     "output_type": "stream",
     "text": [
      "Entre com um número: 1\n",
      "Fatorial: 1\n"
     ]
    }
   ],
   "source": [
    "#Calculando Fatorial de um Número\n",
    "\n",
    "fatorial = 1\n",
    "num = int(input('Entre com um número: '))\n",
    "while num > 1:\n",
    "    fatorial *= num\n",
    "    num -= 1\n",
    "print(f'Fatorial: {fatorial}')"
   ]
  }
 ],
 "metadata": {
  "kernelspec": {
   "display_name": "Python 3",
   "language": "python",
   "name": "python3"
  },
  "language_info": {
   "codemirror_mode": {
    "name": "ipython",
    "version": 3
   },
   "file_extension": ".py",
   "mimetype": "text/x-python",
   "name": "python",
   "nbconvert_exporter": "python",
   "pygments_lexer": "ipython3",
   "version": "3.7.1"
  }
 },
 "nbformat": 4,
 "nbformat_minor": 2
}
