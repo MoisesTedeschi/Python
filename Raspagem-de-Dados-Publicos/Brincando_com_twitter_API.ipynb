{
  "nbformat": 4,
  "nbformat_minor": 0,
  "metadata": {
    "colab": {
      "name": "Brincando-com-twitter-API.ipynb",
      "provenance": [],
      "collapsed_sections": [],
      "include_colab_link": true
    },
    "kernelspec": {
      "name": "python3",
      "display_name": "Python 3"
    }
  },
  "cells": [
    {
      "cell_type": "markdown",
      "metadata": {
        "id": "view-in-github",
        "colab_type": "text"
      },
      "source": [
        "<a href=\"https://colab.research.google.com/github/MoisesTedeschi/Raspagem-de-Dados-Publicos/blob/master/Brincando_com_twitter_API.ipynb\" target=\"_parent\"><img src=\"https://colab.research.google.com/assets/colab-badge.svg\" alt=\"Open In Colab\"/></a>"
      ]
    },
    {
      "cell_type": "code",
      "metadata": {
        "id": "6ljcDOg3NlRF",
        "colab_type": "code",
        "colab": {
          "base_uri": "https://localhost:8080/",
          "height": 34
        },
        "outputId": "bc3187bd-2337-4706-ba0b-3b5aa2c99b54"
      },
      "source": [
        "pip install twitter"
      ],
      "execution_count": 3,
      "outputs": [
        {
          "output_type": "stream",
          "text": [
            "Requirement already satisfied: twitter in /usr/local/lib/python3.6/dist-packages (1.18.0)\n"
          ],
          "name": "stdout"
        }
      ]
    },
    {
      "cell_type": "code",
      "metadata": {
        "id": "KED4BuXRS6iU",
        "colab_type": "code",
        "colab": {}
      },
      "source": [
        "import twitter\n",
        "\n",
        "#Credenciais precisam ser criadas no próprio site do Twitter: \n",
        "#https://developer.twitter.com/app\n",
        "\n",
        "CONSUMER_KEY = 'r9qku0GDRP2OLl31Zj2x4u42l'\n",
        "CONSUMER_SECRET = 'QyKncmeSINnfTIEFaXokDLp7GDYJ8jud1DeQDinYE0qPjpIiDI'\n",
        "OAUTH_TOKEN = '1193993924207140866-Oldh5JVSrVJ7SuHX0HtcHSoXIWG4bl'\n",
        "OAUTH_TOKEN_SECRET = 'v4ZkKWv6ZLTDKuUGMhQaSCIkwTif21uYdO00BqGtBNJ40'\n",
        "\n",
        "#Adicionando credenciais de acesso a variável.\n",
        "auth = twitter.oauth.OAuth(OAUTH_TOKEN, OAUTH_TOKEN_SECRET, CONSUMER_KEY,\n",
        "                           CONSUMER_SECRET)"
      ],
      "execution_count": 0,
      "outputs": []
    },
    {
      "cell_type": "code",
      "metadata": {
        "id": "fStpkwrOmgO_",
        "colab_type": "code",
        "colab": {}
      },
      "source": [
        "twitter_api = twitter.Twitter(auth=auth)\n",
        "\n",
        "#Basicamente os \"IDs das localidades\" - Site utilizado:\n",
        "#http://woeid.rosselliot.co.nz\n",
        "\n",
        "WORLD_WOE_ID = 1\n",
        "RIO_WOE_ID = 455825\n",
        "SAO_PAULO_WOE_ID = 455827\n",
        "BRAZIL_WOE_ID = 23424768\n",
        "\n",
        "world_trends = twitter_api.trends.place(_id=WORLD_WOE_ID)\n",
        "brazil_trends = twitter_api.trends.place(_id=BRAZIL_WOE_ID)\n",
        "rio_trends = twitter_api.trends.place(_id=RIO_WOE_ID)\n",
        "sao_paulo_trends = twitter_api.trends.place(_id=SAO_PAULO_WOE_ID)"
      ],
      "execution_count": 0,
      "outputs": []
    },
    {
      "cell_type": "code",
      "metadata": {
        "id": "pct_so0mmo0j",
        "colab_type": "code",
        "colab": {}
      },
      "source": [
        "world_trends_set     = set([trend['name'] \n",
        "                            for trend in world_trends[0]['trends']])\n",
        "\n",
        "brazil_trends_set    = set([trend['name'] \n",
        "                            for trend in brazil_trends[0]['trends']])\n",
        "\n",
        "rio_trends_set       = set([trend['name'] \n",
        "                            for trend in rio_trends[0]['trends']])\n",
        "sao_paulo_trends_set = set([trend['name'] \n",
        "                            for trend in sao_paulo_trends[0]['trends']])"
      ],
      "execution_count": 0,
      "outputs": []
    },
    {
      "cell_type": "code",
      "metadata": {
        "id": "cfqyaijfygPy",
        "colab_type": "code",
        "colab": {
          "base_uri": "https://localhost:8080/",
          "height": 107
        },
        "outputId": "d2b0e72f-7703-4e3e-b3af-6147c0f79acd"
      },
      "source": [
        "#Trends do Mundo que, também, estão bombando no Brasil\n",
        "common_trends = world_trends_set.intersection(brazil_trends_set)\n",
        "print(common_trends)\n",
        "\n",
        "#Trends em tempo real no Rio e SP\n",
        "common_trends_state = rio_trends_set.intersection(sao_paulo_trends_set)\n",
        "print(common_trends_state)\n",
        "\n",
        "#Trends pelo mundo e no Rio de Janeiro\n",
        "common_trends_state_in_rio = rio_trends_set.intersection(world_trends_set)\n",
        "print(common_trends_state_in_rio)\n",
        "\n",
        "#Trends pelo mundo e no São Paulo\n",
        "common_trends_state_in_sp = sao_paulo_trends_set.intersection(world_trends_set)\n",
        "print(common_trends_state_in_sp)\n",
        "\n",
        "common_trends_all_inter = common_trends.intersection(\n",
        "    common_trends_state_in_rio, common_trends_state_in_sp)"
      ],
      "execution_count": 20,
      "outputs": [
        {
          "output_type": "stream",
          "text": [
            "{'#ImpeachmentGilmarMendes', 'Zverev', '#EvoElMundoEstaContigo', '#ComunistaApoiaGenocidio', '#MonstaXis7', 'DPVAT', 'ARTPOP', '#BuyPERSONAOniTunes'}\n",
            "{'#oioioi26', '#MarcaoPalhaco', 'Scooby', '#expedientefutebol', '#BOTxAVA', '#SelfiesForDiarra', '#EvoElMundoEstaContigo', 'DPVAT', 'Botafogo 1x0 Avaí', '#BuyPERSONAOniTunes', 'Tirei Personalidade', '#graffite98', 'Lei de Segurança Nacional', 'Rollo', 'Partilhar', '#MCRComeToBrazil', '#ConvocaCaixa', '#JojoTodynhoNoTVZ', 'Lombardi', 'ARTPOP', '#DAYgeminiana', 'Rubel', 'Aliança Pelo Brasil', '#MTVHitsNoRing', '#OrbitCorreAqui', '#Topíssima125', '#ComunistaApoiaGenocidio', '#RJTV', '#MonstaXis7', '#외랑둥이수고는우리가알아', '#AQueNaoPodiaAmar156', 'Indisponível', 'Nadal', '#ImpeachmentGilmarMendes', 'Ryan Reynolds', '#mtvhitscomoex', '#SexEducation', 'Crocs', '#AnittaEH'}\n",
            "{'#ImpeachmentGilmarMendes', 'Zverev', '#EvoElMundoEstaContigo', '#ComunistaApoiaGenocidio', '#MonstaXis7', 'DPVAT', 'ARTPOP', '#BuyPERSONAOniTunes'}\n",
            "{'#ImpeachmentGilmarMendes', '#ComunistaApoiaGenocidio', '#EvoElMundoEstaContigo', '#MonstaXis7', 'DPVAT', 'ARTPOP', '#BuyPERSONAOniTunes'}\n"
          ],
          "name": "stdout"
        }
      ]
    },
    {
      "cell_type": "code",
      "metadata": {
        "id": "Yr_j2hMWywqO",
        "colab_type": "code",
        "colab": {
          "base_uri": "https://localhost:8080/",
          "height": 34
        },
        "outputId": "51f83108-1eb5-40e9-fb1d-c599afc69655"
      },
      "source": [
        "print(common_trends_all_inter)"
      ],
      "execution_count": 21,
      "outputs": [
        {
          "output_type": "stream",
          "text": [
            "{'#EvoElMundoEstaContigo', '#ComunistaApoiaGenocidio', '#MonstaXis7', 'DPVAT', '#ImpeachmentGilmarMendes', 'ARTPOP', '#BuyPERSONAOniTunes'}\n"
          ],
          "name": "stdout"
        }
      ]
    },
    {
      "cell_type": "code",
      "metadata": {
        "id": "hXP4n0ffyxSm",
        "colab_type": "code",
        "colab": {}
      },
      "source": [
        ""
      ],
      "execution_count": 0,
      "outputs": []
    }
  ]
}