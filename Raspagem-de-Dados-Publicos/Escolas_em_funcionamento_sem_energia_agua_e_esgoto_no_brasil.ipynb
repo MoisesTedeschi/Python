{
  "nbformat": 4,
  "nbformat_minor": 0,
  "metadata": {
    "colab": {
      "name": "Escolas_em_funcionamento_sem_energia_agua_e_esgoto_no_brasil.ipynb",
      "provenance": [],
      "collapsed_sections": [],
      "include_colab_link": true
    },
    "kernelspec": {
      "name": "python3",
      "display_name": "Python 3"
    }
  },
  "cells": [
    {
      "cell_type": "markdown",
      "metadata": {
        "id": "view-in-github",
        "colab_type": "text"
      },
      "source": [
        "<a href=\"https://colab.research.google.com/github/MoisesTedeschi/Raspagem-de-Dados-Publicos/blob/master/Escolas_em_funcionamento_sem_energia_agua_e_esgoto_no_brasil.ipynb\" target=\"_parent\"><img src=\"https://colab.research.google.com/assets/colab-badge.svg\" alt=\"Open In Colab\"/></a>"
      ]
    },
    {
      "cell_type": "code",
      "metadata": {
        "id": "aYc5HzzEUDsO",
        "colab_type": "code",
        "colab": {}
      },
      "source": [
        "import requests\n",
        "import json"
      ],
      "execution_count": 0,
      "outputs": []
    },
    {
      "cell_type": "code",
      "metadata": {
        "id": "MKrc5ph9UIH5",
        "colab_type": "code",
        "colab": {}
      },
      "source": [
        "url = 'http://educacao.dadosabertosbr.com/api/escolas/buscaavancada?situacaoFuncionamento=1'\n",
        "situação = '&energiaInexistente=on&aguaInexistente=on&esgotoInexistente=on'"
      ],
      "execution_count": 0,
      "outputs": []
    },
    {
      "cell_type": "code",
      "metadata": {
        "id": "kFvumfbsUL4t",
        "colab_type": "code",
        "colab": {
          "base_uri": "https://localhost:8080/",
          "height": 34
        },
        "outputId": "0af5f525-2f65-41cd-c344-86df1e3cccf3"
      },
      "source": [
        "resp = requests.get(url+situação).json()\n",
        "print ('Número de Escolas em funcionamento sem energia, água e esgoto:', resp[0])"
      ],
      "execution_count": 59,
      "outputs": [
        {
          "output_type": "stream",
          "text": [
            "Número de Escolas em funcionamento sem energia, água e esgoto: 968\n"
          ],
          "name": "stdout"
        }
      ]
    },
    {
      "cell_type": "code",
      "metadata": {
        "id": "43JiTHXCUPIb",
        "colab_type": "code",
        "colab": {
          "base_uri": "https://localhost:8080/",
          "height": 1000
        },
        "outputId": "7a47e2db-5bb9-4f56-f990-d3d79e8a1da9"
      },
      "source": [
        "for line in resp[1]:\n",
        "  print ('NOME DA ESCOLA: ',line['nome'], ' - CÓDIGO: ',line['cod'])\n",
        "  print ('CIDADE: ', line['cidade'].upper(), ' - ESTADO: ',line['estado'], ' - REGIÃO: ',line['regiao'].upper())\n",
        "  print ()"
      ],
      "execution_count": 67,
      "outputs": [
        {
          "output_type": "stream",
          "text": [
            "NOME DA ESCOLA:  BAIRRO DOS MENDES E R M EF  - CÓDIGO:  41036026\n",
            "CIDADE:  CANDIDO DE ABREU  - ESTADO:  PR  - REGIÃO:  SUL\n",
            "\n",
            "NOME DA ESCOLA:  CEF CAJAZEIRAS  - CÓDIGO:  21237808\n",
            "CIDADE:  SANTA HELENA  - ESTADO:  MA  - REGIÃO:  NORDESTE\n",
            "\n",
            "NOME DA ESCOLA:  E M E F AGUA AZUL  - CÓDIGO:  15008258\n",
            "CIDADE:  MONTE ALEGRE  - ESTADO:  PA  - REGIÃO:  NORTE\n",
            "\n",
            "NOME DA ESCOLA:  E M E F AGUA BOA  - CÓDIGO:  15534340\n",
            "CIDADE:  PLACAS  - ESTADO:  PA  - REGIÃO:  NORTE\n",
            "\n",
            "NOME DA ESCOLA:  E M E F AGUA PRETA  - CÓDIGO:  15590356\n",
            "CIDADE:  MOJU  - ESTADO:  PA  - REGIÃO:  NORTE\n",
            "\n",
            "NOME DA ESCOLA:  E M E F ALTO VERDE  - CÓDIGO:  15115070\n",
            "CIDADE:  NOVO REPARTIMENTO  - ESTADO:  PA  - REGIÃO:  NORTE\n",
            "\n",
            "NOME DA ESCOLA:  E M E F AMAZONIA  - CÓDIGO:  15525821\n",
            "CIDADE:  NOVO REPARTIMENTO  - ESTADO:  PA  - REGIÃO:  NORTE\n",
            "\n",
            "NOME DA ESCOLA:  E M E F AMELIA HOLANDA  - CÓDIGO:  15022790\n",
            "CIDADE:  AFUA  - ESTADO:  PA  - REGIÃO:  NORTE\n",
            "\n",
            "NOME DA ESCOLA:  E M E F AMERICO BRASIL  - CÓDIGO:  15077179\n",
            "CIDADE:  OEIRAS DO PARA  - ESTADO:  PA  - REGIÃO:  NORTE\n",
            "\n",
            "NOME DA ESCOLA:  E M E F ANAUERA TAMBAI  - CÓDIGO:  15531201\n",
            "CIDADE:  CAMETA  - ESTADO:  PA  - REGIÃO:  NORTE\n",
            "\n",
            "NOME DA ESCOLA:  E M E F ANJO DA GUARDA  - CÓDIGO:  15536580\n",
            "CIDADE:  MOJU  - ESTADO:  PA  - REGIÃO:  NORTE\n",
            "\n",
            "NOME DA ESCOLA:  E M E F APOSTOLO PAULO  - CÓDIGO:  15546721\n",
            "CIDADE:  AFUA  - ESTADO:  PA  - REGIÃO:  NORTE\n",
            "\n",
            "NOME DA ESCOLA:  E M E F ARARA AZUL  - CÓDIGO:  15571173\n",
            "CIDADE:  NOVO REPARTIMENTO  - ESTADO:  PA  - REGIÃO:  NORTE\n",
            "\n",
            "NOME DA ESCOLA:  E M E F ARCO IRIS  - CÓDIGO:  15121771\n",
            "CIDADE:  SAO FELIX DO XINGU  - ESTADO:  PA  - REGIÃO:  NORTE\n",
            "\n",
            "NOME DA ESCOLA:  E M E F BAIXO PARURU  - CÓDIGO:  15069451\n",
            "CIDADE:  CAMETA  - ESTADO:  PA  - REGIÃO:  NORTE\n",
            "\n",
            "NOME DA ESCOLA:  E M E F BAIXO URUBUQUARA  - CÓDIGO:  15520340\n",
            "CIDADE:  CACHOEIRA DO ARARI  - ESTADO:  PA  - REGIÃO:  NORTE\n",
            "\n",
            "NOME DA ESCOLA:  E M E F BATALHA  - CÓDIGO:  15547868\n",
            "CIDADE:  CACHOEIRA DO PIRIA  - ESTADO:  PA  - REGIÃO:  NORTE\n",
            "\n",
            "NOME DA ESCOLA:  E M E F BELO PROGRESSO II  - CÓDIGO:  15138739\n",
            "CIDADE:  ITUPIRANGA  - ESTADO:  PA  - REGIÃO:  NORTE\n",
            "\n",
            "NOME DA ESCOLA:  E M E F BELOS PRAZERES  - CÓDIGO:  15572242\n",
            "CIDADE:  SAO SEBASTIAO DA BOA VISTA  - ESTADO:  PA  - REGIÃO:  NORTE\n",
            "\n",
            "NOME DA ESCOLA:  E M E F BETEL  - CÓDIGO:  15524418\n",
            "CIDADE:  IPIXUNA DO PARA  - ESTADO:  PA  - REGIÃO:  NORTE\n",
            "\n",
            "NOME DA ESCOLA:  E M E F BOA ESPERANCA DO SERINGAL  - CÓDIGO:  15569438\n",
            "CIDADE:  CACHOEIRA DO PIRIA  - ESTADO:  PA  - REGIÃO:  NORTE\n",
            "\n",
            "NOME DA ESCOLA:  E M E F BOA ESPERANCA I  - CÓDIGO:  15008312\n",
            "CIDADE:  MONTE ALEGRE  - ESTADO:  PA  - REGIÃO:  NORTE\n",
            "\n",
            "NOME DA ESCOLA:  E M E F BOA UNIAO  - CÓDIGO:  15568598\n",
            "CIDADE:  PORTEL  - ESTADO:  PA  - REGIÃO:  NORTE\n",
            "\n",
            "NOME DA ESCOLA:  E M E F BOA VISTA  - CÓDIGO:  15094804\n",
            "CIDADE:  SAO DOMINGOS DO CAPIM  - ESTADO:  PA  - REGIÃO:  NORTE\n",
            "\n",
            "NOME DA ESCOLA:  E M E F BOCA PEQUENA NOVA  - CÓDIGO:  15582566\n",
            "CIDADE:  CACHOEIRA DO ARARI  - ESTADO:  PA  - REGIÃO:  NORTE\n",
            "\n",
            "NOME DA ESCOLA:  E M E F BRACO DO MEIO  - CÓDIGO:  15544923\n",
            "CIDADE:  VISEU  - ESTADO:  PA  - REGIÃO:  NORTE\n",
            "\n",
            "NOME DA ESCOLA:  E M E F BRASIL NOVO  - CÓDIGO:  15150127\n",
            "CIDADE:  FLORESTA DO ARAGUAIA  - ESTADO:  PA  - REGIÃO:  NORTE\n",
            "\n",
            "NOME DA ESCOLA:  E M E F CABECEIRA DO IGARAPE GRANDE  - CÓDIGO:  15545679\n",
            "CIDADE:  MONTE ALEGRE  - ESTADO:  PA  - REGIÃO:  NORTE\n",
            "\n",
            "NOME DA ESCOLA:  E M E F CANDIRUACU  - CÓDIGO:  15119149\n",
            "CIDADE:  IPIXUNA DO PARA  - ESTADO:  PA  - REGIÃO:  NORTE\n",
            "\n",
            "NOME DA ESCOLA:  E M E F CANOAS DE CIMA  - CÓDIGO:  15530140\n",
            "CIDADE:  VISEU  - ESTADO:  PA  - REGIÃO:  NORTE\n",
            "\n",
            "NOME DA ESCOLA:  E M E F CARLOS BENEDITO  - CÓDIGO:  15162648\n",
            "CIDADE:  ITUPIRANGA  - ESTADO:  PA  - REGIÃO:  NORTE\n",
            "\n",
            "NOME DA ESCOLA:  E M E F CEL JOAO CANCIO DA SILVA BRABO II  - CÓDIGO:  15030792\n",
            "CIDADE:  MUANA  - ESTADO:  PA  - REGIÃO:  NORTE\n",
            "\n",
            "NOME DA ESCOLA:  E M E F CHEIA DE GRACA  - CÓDIGO:  15033414\n",
            "CIDADE:  SANTA CRUZ DO ARARI  - ESTADO:  PA  - REGIÃO:  NORTE\n",
            "\n",
            "NOME DA ESCOLA:  E M E F CHICO MENDES  - CÓDIGO:  15574318\n",
            "CIDADE:  NOVA IPIXUNA  - ESTADO:  PA  - REGIÃO:  NORTE\n",
            "\n",
            "NOME DA ESCOLA:  E M E F CICERO CORDEIRO  - CÓDIGO:  15158373\n",
            "CIDADE:  PACAJA  - ESTADO:  PA  - REGIÃO:  NORTE\n",
            "\n",
            "NOME DA ESCOLA:  E M E F CIPO  - CÓDIGO:  15545520\n",
            "CIDADE:  MONTE ALEGRE  - ESTADO:  PA  - REGIÃO:  NORTE\n",
            "\n",
            "NOME DA ESCOLA:  E M E F CORACAO DE JESUS  - CÓDIGO:  15545466\n",
            "CIDADE:  BREVES  - ESTADO:  PA  - REGIÃO:  NORTE\n",
            "\n",
            "NOME DA ESCOLA:  E M E F CRISTO REI  - CÓDIGO:  15522563\n",
            "CIDADE:  SAO DOMINGOS DO CAPIM  - ESTADO:  PA  - REGIÃO:  NORTE\n",
            "\n",
            "NOME DA ESCOLA:  E M E F CRISTO REI  - CÓDIGO:  15102866\n",
            "CIDADE:  RUROPOLIS  - ESTADO:  PA  - REGIÃO:  NORTE\n",
            "\n",
            "NOME DA ESCOLA:  E M E F DE ACUA  - CÓDIGO:  15071790\n",
            "CIDADE:  CAMETA  - ESTADO:  PA  - REGIÃO:  NORTE\n",
            "\n",
            "NOME DA ESCOLA:  E M E F DE BOM FIM  - CÓDIGO:  15571521\n",
            "CIDADE:  CAMETA  - ESTADO:  PA  - REGIÃO:  NORTE\n",
            "\n",
            "NOME DA ESCOLA:  E M E F DE CAMARAU  - CÓDIGO:  15028798\n",
            "CIDADE:  CACHOEIRA DO ARARI  - ESTADO:  PA  - REGIÃO:  NORTE\n",
            "\n",
            "NOME DA ESCOLA:  E M E F DE CANUDO  - CÓDIGO:  15530949\n",
            "CIDADE:  CAMETA  - ESTADO:  PA  - REGIÃO:  NORTE\n",
            "\n",
            "NOME DA ESCOLA:  E M E F DE CARACARA  - CÓDIGO:  15069699\n",
            "CIDADE:  CAMETA  - ESTADO:  PA  - REGIÃO:  NORTE\n",
            "\n",
            "NOME DA ESCOLA:  E M E F DE ILHA DOS PRAZERES  - CÓDIGO:  15069770\n",
            "CIDADE:  CAMETA  - ESTADO:  PA  - REGIÃO:  NORTE\n",
            "\n",
            "NOME DA ESCOLA:  E M E F DE ITANDUBA III  - CÓDIGO:  15068811\n",
            "CIDADE:  CAMETA  - ESTADO:  PA  - REGIÃO:  NORTE\n",
            "\n",
            "NOME DA ESCOLA:  E M E F DE MATA GRANDE  - CÓDIGO:  15009220\n",
            "CIDADE:  MONTE ALEGRE  - ESTADO:  PA  - REGIÃO:  NORTE\n",
            "\n",
            "NOME DA ESCOLA:  E M E F DE PACAJAI  - CÓDIGO:  15071707\n",
            "CIDADE:  CAMETA  - ESTADO:  PA  - REGIÃO:  NORTE\n",
            "\n",
            "NOME DA ESCOLA:  E M E F DE PIRANOPAM  - CÓDIGO:  15067904\n",
            "CIDADE:  BAIAO  - ESTADO:  PA  - REGIÃO:  NORTE\n",
            "\n",
            "NOME DA ESCOLA:  E M E F DE PORTO DO CAMPO  - CÓDIGO:  15069982\n",
            "CIDADE:  CAMETA  - ESTADO:  PA  - REGIÃO:  NORTE\n",
            "\n",
            "NOME DA ESCOLA:  E M E F DE SANTA MARIA  - CÓDIGO:  15072665\n",
            "CIDADE:  CAMETA  - ESTADO:  PA  - REGIÃO:  NORTE\n",
            "\n",
            "NOME DA ESCOLA:  E M E F DE TABATINGA DE CARAPAJO  - CÓDIGO:  15070727\n",
            "CIDADE:  CAMETA  - ESTADO:  PA  - REGIÃO:  NORTE\n",
            "\n",
            "NOME DA ESCOLA:  E M E F DE VARZEA SAO JOSE  - CÓDIGO:  15069273\n",
            "CIDADE:  CAMETA  - ESTADO:  PA  - REGIÃO:  NORTE\n",
            "\n",
            "NOME DA ESCOLA:  E M E F DEUS E GUIA  - CÓDIGO:  15121941\n",
            "CIDADE:  SAO FELIX DO XINGU  - ESTADO:  PA  - REGIÃO:  NORTE\n",
            "\n",
            "NOME DA ESCOLA:  E M E F DO CAMUTA  - CÓDIGO:  15029484\n",
            "CIDADE:  CHAVES  - ESTADO:  PA  - REGIÃO:  NORTE\n",
            "\n",
            "NOME DA ESCOLA:  E M E F DO VALERIO  - CÓDIGO:  15029522\n",
            "CIDADE:  CHAVES  - ESTADO:  PA  - REGIÃO:  NORTE\n",
            "\n",
            "NOME DA ESCOLA:  E M E F DOM BOSCO  - CÓDIGO:  15094901\n",
            "CIDADE:  SAO DOMINGOS DO CAPIM  - ESTADO:  PA  - REGIÃO:  NORTE\n",
            "\n",
            "NOME DA ESCOLA:  E M E F DOMINGOS BRABO  - CÓDIGO:  15031705\n",
            "CIDADE:  MUANA  - ESTADO:  PA  - REGIÃO:  NORTE\n",
            "\n",
            "NOME DA ESCOLA:  E M E F DUQUE DE CAXIAS  - CÓDIGO:  15108210\n",
            "CIDADE:  PACAJA  - ESTADO:  PA  - REGIÃO:  NORTE\n",
            "\n",
            "NOME DA ESCOLA:  E M E F EM CANOAS DE BAIXO  - CÓDIGO:  15576116\n",
            "CIDADE:  VISEU  - ESTADO:  PA  - REGIÃO:  NORTE\n",
            "\n",
            "NOME DA ESCOLA:  E M E F EM CUMARU ITAPURITEUA  - CÓDIGO:  15097773\n",
            "CIDADE:  VISEU  - ESTADO:  PA  - REGIÃO:  NORTE\n",
            "\n",
            "NOME DA ESCOLA:  E M E F EM GEMEDOR  - CÓDIGO:  15576183\n",
            "CIDADE:  VISEU  - ESTADO:  PA  - REGIÃO:  NORTE\n",
            "\n",
            "NOME DA ESCOLA:  E M E F EM JACAMIM  - CÓDIGO:  15153576\n",
            "CIDADE:  VISEU  - ESTADO:  PA  - REGIÃO:  NORTE\n",
            "\n",
            "NOME DA ESCOLA:  E M E F EM JIBOIA  - CÓDIGO:  15098362\n",
            "CIDADE:  VISEU  - ESTADO:  PA  - REGIÃO:  NORTE\n",
            "\n",
            "NOME DA ESCOLA:  E M E F EM OLHO D AGUA  - CÓDIGO:  15097820\n",
            "CIDADE:  VISEU  - ESTADO:  PA  - REGIÃO:  NORTE\n",
            "\n",
            "NOME DA ESCOLA:  E M E F EM SETE BARRACAS  - CÓDIGO:  15153681\n",
            "CIDADE:  VISEU  - ESTADO:  PA  - REGIÃO:  NORTE\n",
            "\n",
            "NOME DA ESCOLA:  E M E F ESPERANCA  - CÓDIGO:  15033449\n",
            "CIDADE:  SANTA CRUZ DO ARARI  - ESTADO:  PA  - REGIÃO:  NORTE\n",
            "\n",
            "NOME DA ESCOLA:  E M E F ESPIRITO SANTO DO MARACU  - CÓDIGO:  15566161\n",
            "CIDADE:  CAMETA  - ESTADO:  PA  - REGIÃO:  NORTE\n",
            "\n",
            "NOME DA ESCOLA:  E M E F ESTRELA D ALVA  - CÓDIGO:  15153932\n",
            "CIDADE:  RUROPOLIS  - ESTADO:  PA  - REGIÃO:  NORTE\n",
            "\n",
            "NOME DA ESCOLA:  E M E F FE EM DEUS  - CÓDIGO:  15094936\n",
            "CIDADE:  SAO DOMINGOS DO CAPIM  - ESTADO:  PA  - REGIÃO:  NORTE\n",
            "\n",
            "NOME DA ESCOLA:  E M E F FLEXAL  - CÓDIGO:  15541576\n",
            "CIDADE:  VISEU  - ESTADO:  PA  - REGIÃO:  NORTE\n",
            "\n",
            "NOME DA ESCOLA:  E M E F FLORESTA  - CÓDIGO:  15110672\n",
            "CIDADE:  URUARA  - ESTADO:  PA  - REGIÃO:  NORTE\n",
            "\n",
            "NOME DA ESCOLA:  E M E F FLORIANO PAIVA  - CÓDIGO:  15079163\n",
            "CIDADE:  ACARA  - ESTADO:  PA  - REGIÃO:  NORTE\n",
            "\n",
            "NOME DA ESCOLA:  E M E F FOZ DO JARI  - CÓDIGO:  15094952\n",
            "CIDADE:  SAO DOMINGOS DO CAPIM  - ESTADO:  PA  - REGIÃO:  NORTE\n",
            "\n",
            "NOME DA ESCOLA:  E M E F FUTURO DA CRIANCA  - CÓDIGO:  15158497\n",
            "CIDADE:  PACAJA  - ESTADO:  PA  - REGIÃO:  NORTE\n",
            "\n",
            "NOME DA ESCOLA:  E M E F GETULIO VARGAS  - CÓDIGO:  15122042\n",
            "CIDADE:  SAO FELIX DO XINGU  - ESTADO:  PA  - REGIÃO:  NORTE\n",
            "\n",
            "NOME DA ESCOLA:  E M E F GUIMARAES ROSA  - CÓDIGO:  15148521\n",
            "CIDADE:  OEIRAS DO PARA  - ESTADO:  PA  - REGIÃO:  NORTE\n",
            "\n",
            "NOME DA ESCOLA:  E M E F IGARAPE DO ANTA I  - CÓDIGO:  15097781\n",
            "CIDADE:  MONTE ALEGRE  - ESTADO:  PA  - REGIÃO:  NORTE\n",
            "\n",
            "NOME DA ESCOLA:  E M E F ILHA GAMA  - CÓDIGO:  15070891\n",
            "CIDADE:  CAMETA  - ESTADO:  PA  - REGIÃO:  NORTE\n",
            "\n",
            "NOME DA ESCOLA:  E M E F ITAPAIUNA  - CÓDIGO:  15547841\n",
            "CIDADE:  CACHOEIRA DO PIRIA  - ESTADO:  PA  - REGIÃO:  NORTE\n",
            "\n",
            "NOME DA ESCOLA:  E M E F ITAPAIUNA II  - CÓDIGO:  15561917\n",
            "CIDADE:  CACHOEIRA DO PIRIA  - ESTADO:  PA  - REGIÃO:  NORTE\n",
            "\n",
            "NOME DA ESCOLA:  E M E F IVENS RODRIGUES FERREIRA DA COSTA  - CÓDIGO:  15531104\n",
            "CIDADE:  CAMETA  - ESTADO:  PA  - REGIÃO:  NORTE\n",
            "\n",
            "NOME DA ESCOLA:  E M E F JADER BARBALHO  - CÓDIGO:  15124991\n",
            "CIDADE:  ELDORADO DOS CARAJAS  - ESTADO:  PA  - REGIÃO:  NORTE\n",
            "\n",
            "NOME DA ESCOLA:  E M E F JESUS E POR NOS  - CÓDIGO:  15578933\n",
            "CIDADE:  SAO DOMINGOS DO CAPIM  - ESTADO:  PA  - REGIÃO:  NORTE\n",
            "\n",
            "NOME DA ESCOLA:  E M E F JOAO DA SILVA LOBO  - CÓDIGO:  15094995\n",
            "CIDADE:  SAO DOMINGOS DO CAPIM  - ESTADO:  PA  - REGIÃO:  NORTE\n",
            "\n",
            "NOME DA ESCOLA:  E M E F JOAQUIM JOSE DA SILVA XAVIER  - CÓDIGO:  15089770\n",
            "CIDADE:  GARRAFAO DO NORTE  - ESTADO:  PA  - REGIÃO:  NORTE\n",
            "\n",
            "NOME DA ESCOLA:  E M E F JOSE BELO  - CÓDIGO:  15560406\n",
            "CIDADE:  MUANA  - ESTADO:  PA  - REGIÃO:  NORTE\n",
            "\n",
            "NOME DA ESCOLA:  E M E F JOSE DE ALENCAR  - CÓDIGO:  15158063\n",
            "CIDADE:  NOVA ESPERANCA DO PIRIA  - ESTADO:  PA  - REGIÃO:  NORTE\n",
            "\n",
            "NOME DA ESCOLA:  E M E F JOSE NOGUEIRA DA SILVA  - CÓDIGO:  15130100\n",
            "CIDADE:  SAO DOMINGOS DO ARAGUAIA  - ESTADO:  PA  - REGIÃO:  NORTE\n",
            "\n",
            "NOME DA ESCOLA:  E M E F JUARERAMANHA  - CÓDIGO:  15547698\n",
            "CIDADE:  CAMETA  - ESTADO:  PA  - REGIÃO:  NORTE\n",
            "\n",
            "NOME DA ESCOLA:  E M E F LAVRADORES AMIGOS  - CÓDIGO:  15580024\n",
            "CIDADE:  SAO FELIX DO XINGU  - ESTADO:  PA  - REGIÃO:  NORTE\n",
            "\n",
            "NOME DA ESCOLA:  E M E F LINHA CENTRAL  - CÓDIGO:  15008673\n",
            "CIDADE:  MONTE ALEGRE  - ESTADO:  PA  - REGIÃO:  NORTE\n",
            "\n",
            "NOME DA ESCOLA:  E M E F LINHA CENTRAL II  - CÓDIGO:  15008681\n",
            "CIDADE:  MONTE ALEGRE  - ESTADO:  PA  - REGIÃO:  NORTE\n",
            "\n",
            "NOME DA ESCOLA:  E M E F LOURIVAL CAMARAO  - CÓDIGO:  15518930\n",
            "CIDADE:  SAO SEBASTIAO DA BOA VISTA  - ESTADO:  PA  - REGIÃO:  NORTE\n",
            "\n",
            "NOME DA ESCOLA:  E M E F LUZIA DO CIRIRI  - CÓDIGO:  15087980\n",
            "CIDADE:  AURORA DO PARA  - ESTADO:  PA  - REGIÃO:  NORTE\n",
            "\n",
            "NOME DA ESCOLA:  E M E F MANOEL GONCALVES II  - CÓDIGO:  15079350\n",
            "CIDADE:  ACARA  - ESTADO:  PA  - REGIÃO:  NORTE\n",
            "\n",
            "NOME DA ESCOLA:  E M E F MANUEL BANDEIRA  - CÓDIGO:  15575586\n",
            "CIDADE:  RUROPOLIS  - ESTADO:  PA  - REGIÃO:  NORTE\n",
            "\n",
            "NOME DA ESCOLA:  E M E F MARIA ALVES SANTANA  - CÓDIGO:  15575535\n",
            "CIDADE:  RUROPOLIS  - ESTADO:  PA  - REGIÃO:  NORTE\n",
            "\n",
            "NOME DA ESCOLA:  E M E F MARIA AMELIA  - CÓDIGO:  15115461\n",
            "CIDADE:  NOVO REPARTIMENTO  - ESTADO:  PA  - REGIÃO:  NORTE\n",
            "\n",
            "NOME DA ESCOLA:  E M E F MARIA DE NAZARE II  - CÓDIGO:  15078183\n",
            "CIDADE:  ACARA  - ESTADO:  PA  - REGIÃO:  NORTE\n",
            "\n"
          ],
          "name": "stdout"
        }
      ]
    },
    {
      "cell_type": "code",
      "metadata": {
        "id": "UysgfYZAUUry",
        "colab_type": "code",
        "colab": {
          "base_uri": "https://localhost:8080/",
          "height": 34
        },
        "outputId": "6d81f99f-c25e-41a4-8862-7b6ebb3ab6f9"
      },
      "source": [
        "resp = requests.get(url+situação).json()\n",
        "print(type(resp))"
      ],
      "execution_count": 83,
      "outputs": [
        {
          "output_type": "stream",
          "text": [
            "<class 'list'>\n"
          ],
          "name": "stdout"
        }
      ]
    },
    {
      "cell_type": "code",
      "metadata": {
        "id": "6a1S88UtAsF4",
        "colab_type": "code",
        "colab": {}
      },
      "source": [
        "arq = open('Escolas_em_funcionamento_sem_energia_agua_e_esgoto.txt', 'w')\n",
        "conteudo = []\n",
        "\n",
        "for line in resp[1]:\n",
        "  conteudo.append(('NOME DA ESCOLA: ',line['nome'], ' - CÓDIGO: ',line['cod']))\n",
        "  conteudo.append(('CIDADE: ', line['cidade'].upper(), ' - ESTADO: ',\n",
        "                   line['estado'], ' - REGIÃO: ',line['regiao'].upper()))\n",
        "arq.writelines(str(conteudo))\n",
        "arq.close()"
      ],
      "execution_count": 0,
      "outputs": []
    },
    {
      "cell_type": "code",
      "metadata": {
        "id": "rEPcORUUA4yF",
        "colab_type": "code",
        "colab": {
          "base_uri": "https://localhost:8080/",
          "height": 34
        },
        "outputId": "899f12bb-08f5-4a01-de85-2e14442c8753"
      },
      "source": [
        "arq = open('Escolas_em_funcionamento_sem_energia_agua_e_esgoto.txt', 'r')\n",
        "conteudo = arq.read()\n",
        "\n",
        "print(type(conteudo))"
      ],
      "execution_count": 125,
      "outputs": [
        {
          "output_type": "stream",
          "text": [
            "<class 'str'>\n"
          ],
          "name": "stdout"
        }
      ]
    },
    {
      "cell_type": "code",
      "metadata": {
        "id": "mW6ZZUTHLjnK",
        "colab_type": "code",
        "colab": {
          "base_uri": "https://localhost:8080/",
          "height": 54
        },
        "outputId": "362037d2-8f0a-4e93-c584-7c713e28a707"
      },
      "source": [
        "print(conteudo)"
      ],
      "execution_count": 128,
      "outputs": [
        {
          "output_type": "stream",
          "text": [
            "[('NOME DA ESCOLA: ', 'BAIRRO DOS MENDES E R M EF', ' - CÓDIGO: ', 41036026), ('CIDADE: ', 'CANDIDO DE ABREU', ' - ESTADO: ', 'PR', ' - REGIÃO: ', 'SUL'), ('NOME DA ESCOLA: ', 'CEF CAJAZEIRAS', ' - CÓDIGO: ', 21237808), ('CIDADE: ', 'SANTA HELENA', ' - ESTADO: ', 'MA', ' - REGIÃO: ', 'NORDESTE'), ('NOME DA ESCOLA: ', 'E M E F AGUA AZUL', ' - CÓDIGO: ', 15008258), ('CIDADE: ', 'MONTE ALEGRE', ' - ESTADO: ', 'PA', ' - REGIÃO: ', 'NORTE'), ('NOME DA ESCOLA: ', 'E M E F AGUA BOA', ' - CÓDIGO: ', 15534340), ('CIDADE: ', 'PLACAS', ' - ESTADO: ', 'PA', ' - REGIÃO: ', 'NORTE'), ('NOME DA ESCOLA: ', 'E M E F AGUA PRETA', ' - CÓDIGO: ', 15590356), ('CIDADE: ', 'MOJU', ' - ESTADO: ', 'PA', ' - REGIÃO: ', 'NORTE'), ('NOME DA ESCOLA: ', 'E M E F ALTO VERDE', ' - CÓDIGO: ', 15115070), ('CIDADE: ', 'NOVO REPARTIMENTO', ' - ESTADO: ', 'PA', ' - REGIÃO: ', 'NORTE'), ('NOME DA ESCOLA: ', 'E M E F AMAZONIA', ' - CÓDIGO: ', 15525821), ('CIDADE: ', 'NOVO REPARTIMENTO', ' - ESTADO: ', 'PA', ' - REGIÃO: ', 'NORTE'), ('NOME DA ESCOLA: ', 'E M E F AMELIA HOLANDA', ' - CÓDIGO: ', 15022790), ('CIDADE: ', 'AFUA', ' - ESTADO: ', 'PA', ' - REGIÃO: ', 'NORTE'), ('NOME DA ESCOLA: ', 'E M E F AMERICO BRASIL', ' - CÓDIGO: ', 15077179), ('CIDADE: ', 'OEIRAS DO PARA', ' - ESTADO: ', 'PA', ' - REGIÃO: ', 'NORTE'), ('NOME DA ESCOLA: ', 'E M E F ANAUERA TAMBAI', ' - CÓDIGO: ', 15531201), ('CIDADE: ', 'CAMETA', ' - ESTADO: ', 'PA', ' - REGIÃO: ', 'NORTE'), ('NOME DA ESCOLA: ', 'E M E F ANJO DA GUARDA', ' - CÓDIGO: ', 15536580), ('CIDADE: ', 'MOJU', ' - ESTADO: ', 'PA', ' - REGIÃO: ', 'NORTE'), ('NOME DA ESCOLA: ', 'E M E F APOSTOLO PAULO', ' - CÓDIGO: ', 15546721), ('CIDADE: ', 'AFUA', ' - ESTADO: ', 'PA', ' - REGIÃO: ', 'NORTE'), ('NOME DA ESCOLA: ', 'E M E F ARARA AZUL', ' - CÓDIGO: ', 15571173), ('CIDADE: ', 'NOVO REPARTIMENTO', ' - ESTADO: ', 'PA', ' - REGIÃO: ', 'NORTE'), ('NOME DA ESCOLA: ', 'E M E F ARCO IRIS', ' - CÓDIGO: ', 15121771), ('CIDADE: ', 'SAO FELIX DO XINGU', ' - ESTADO: ', 'PA', ' - REGIÃO: ', 'NORTE'), ('NOME DA ESCOLA: ', 'E M E F BAIXO PARURU', ' - CÓDIGO: ', 15069451), ('CIDADE: ', 'CAMETA', ' - ESTADO: ', 'PA', ' - REGIÃO: ', 'NORTE'), ('NOME DA ESCOLA: ', 'E M E F BAIXO URUBUQUARA', ' - CÓDIGO: ', 15520340), ('CIDADE: ', 'CACHOEIRA DO ARARI', ' - ESTADO: ', 'PA', ' - REGIÃO: ', 'NORTE'), ('NOME DA ESCOLA: ', 'E M E F BATALHA', ' - CÓDIGO: ', 15547868), ('CIDADE: ', 'CACHOEIRA DO PIRIA', ' - ESTADO: ', 'PA', ' - REGIÃO: ', 'NORTE'), ('NOME DA ESCOLA: ', 'E M E F BELO PROGRESSO II', ' - CÓDIGO: ', 15138739), ('CIDADE: ', 'ITUPIRANGA', ' - ESTADO: ', 'PA', ' - REGIÃO: ', 'NORTE'), ('NOME DA ESCOLA: ', 'E M E F BELOS PRAZERES', ' - CÓDIGO: ', 15572242), ('CIDADE: ', 'SAO SEBASTIAO DA BOA VISTA', ' - ESTADO: ', 'PA', ' - REGIÃO: ', 'NORTE'), ('NOME DA ESCOLA: ', 'E M E F BETEL', ' - CÓDIGO: ', 15524418), ('CIDADE: ', 'IPIXUNA DO PARA', ' - ESTADO: ', 'PA', ' - REGIÃO: ', 'NORTE'), ('NOME DA ESCOLA: ', 'E M E F BOA ESPERANCA DO SERINGAL', ' - CÓDIGO: ', 15569438), ('CIDADE: ', 'CACHOEIRA DO PIRIA', ' - ESTADO: ', 'PA', ' - REGIÃO: ', 'NORTE'), ('NOME DA ESCOLA: ', 'E M E F BOA ESPERANCA I', ' - CÓDIGO: ', 15008312), ('CIDADE: ', 'MONTE ALEGRE', ' - ESTADO: ', 'PA', ' - REGIÃO: ', 'NORTE'), ('NOME DA ESCOLA: ', 'E M E F BOA UNIAO', ' - CÓDIGO: ', 15568598), ('CIDADE: ', 'PORTEL', ' - ESTADO: ', 'PA', ' - REGIÃO: ', 'NORTE'), ('NOME DA ESCOLA: ', 'E M E F BOA VISTA', ' - CÓDIGO: ', 15094804), ('CIDADE: ', 'SAO DOMINGOS DO CAPIM', ' - ESTADO: ', 'PA', ' - REGIÃO: ', 'NORTE'), ('NOME DA ESCOLA: ', 'E M E F BOCA PEQUENA NOVA', ' - CÓDIGO: ', 15582566), ('CIDADE: ', 'CACHOEIRA DO ARARI', ' - ESTADO: ', 'PA', ' - REGIÃO: ', 'NORTE'), ('NOME DA ESCOLA: ', 'E M E F BRACO DO MEIO', ' - CÓDIGO: ', 15544923), ('CIDADE: ', 'VISEU', ' - ESTADO: ', 'PA', ' - REGIÃO: ', 'NORTE'), ('NOME DA ESCOLA: ', 'E M E F BRASIL NOVO', ' - CÓDIGO: ', 15150127), ('CIDADE: ', 'FLORESTA DO ARAGUAIA', ' - ESTADO: ', 'PA', ' - REGIÃO: ', 'NORTE'), ('NOME DA ESCOLA: ', 'E M E F CABECEIRA DO IGARAPE GRANDE', ' - CÓDIGO: ', 15545679), ('CIDADE: ', 'MONTE ALEGRE', ' - ESTADO: ', 'PA', ' - REGIÃO: ', 'NORTE'), ('NOME DA ESCOLA: ', 'E M E F CANDIRUACU', ' - CÓDIGO: ', 15119149), ('CIDADE: ', 'IPIXUNA DO PARA', ' - ESTADO: ', 'PA', ' - REGIÃO: ', 'NORTE'), ('NOME DA ESCOLA: ', 'E M E F CANOAS DE CIMA', ' - CÓDIGO: ', 15530140), ('CIDADE: ', 'VISEU', ' - ESTADO: ', 'PA', ' - REGIÃO: ', 'NORTE'), ('NOME DA ESCOLA: ', 'E M E F CARLOS BENEDITO', ' - CÓDIGO: ', 15162648), ('CIDADE: ', 'ITUPIRANGA', ' - ESTADO: ', 'PA', ' - REGIÃO: ', 'NORTE'), ('NOME DA ESCOLA: ', 'E M E F CEL JOAO CANCIO DA SILVA BRABO II', ' - CÓDIGO: ', 15030792), ('CIDADE: ', 'MUANA', ' - ESTADO: ', 'PA', ' - REGIÃO: ', 'NORTE'), ('NOME DA ESCOLA: ', 'E M E F CHEIA DE GRACA', ' - CÓDIGO: ', 15033414), ('CIDADE: ', 'SANTA CRUZ DO ARARI', ' - ESTADO: ', 'PA', ' - REGIÃO: ', 'NORTE'), ('NOME DA ESCOLA: ', 'E M E F CHICO MENDES', ' - CÓDIGO: ', 15574318), ('CIDADE: ', 'NOVA IPIXUNA', ' - ESTADO: ', 'PA', ' - REGIÃO: ', 'NORTE'), ('NOME DA ESCOLA: ', 'E M E F CICERO CORDEIRO', ' - CÓDIGO: ', 15158373), ('CIDADE: ', 'PACAJA', ' - ESTADO: ', 'PA', ' - REGIÃO: ', 'NORTE'), ('NOME DA ESCOLA: ', 'E M E F CIPO', ' - CÓDIGO: ', 15545520), ('CIDADE: ', 'MONTE ALEGRE', ' - ESTADO: ', 'PA', ' - REGIÃO: ', 'NORTE'), ('NOME DA ESCOLA: ', 'E M E F CORACAO DE JESUS', ' - CÓDIGO: ', 15545466), ('CIDADE: ', 'BREVES', ' - ESTADO: ', 'PA', ' - REGIÃO: ', 'NORTE'), ('NOME DA ESCOLA: ', 'E M E F CRISTO REI', ' - CÓDIGO: ', 15522563), ('CIDADE: ', 'SAO DOMINGOS DO CAPIM', ' - ESTADO: ', 'PA', ' - REGIÃO: ', 'NORTE'), ('NOME DA ESCOLA: ', 'E M E F CRISTO REI', ' - CÓDIGO: ', 15102866), ('CIDADE: ', 'RUROPOLIS', ' - ESTADO: ', 'PA', ' - REGIÃO: ', 'NORTE'), ('NOME DA ESCOLA: ', 'E M E F DE ACUA', ' - CÓDIGO: ', 15071790), ('CIDADE: ', 'CAMETA', ' - ESTADO: ', 'PA', ' - REGIÃO: ', 'NORTE'), ('NOME DA ESCOLA: ', 'E M E F DE BOM FIM', ' - CÓDIGO: ', 15571521), ('CIDADE: ', 'CAMETA', ' - ESTADO: ', 'PA', ' - REGIÃO: ', 'NORTE'), ('NOME DA ESCOLA: ', 'E M E F DE CAMARAU', ' - CÓDIGO: ', 15028798), ('CIDADE: ', 'CACHOEIRA DO ARARI', ' - ESTADO: ', 'PA', ' - REGIÃO: ', 'NORTE'), ('NOME DA ESCOLA: ', 'E M E F DE CANUDO', ' - CÓDIGO: ', 15530949), ('CIDADE: ', 'CAMETA', ' - ESTADO: ', 'PA', ' - REGIÃO: ', 'NORTE'), ('NOME DA ESCOLA: ', 'E M E F DE CARACARA', ' - CÓDIGO: ', 15069699), ('CIDADE: ', 'CAMETA', ' - ESTADO: ', 'PA', ' - REGIÃO: ', 'NORTE'), ('NOME DA ESCOLA: ', 'E M E F DE ILHA DOS PRAZERES', ' - CÓDIGO: ', 15069770), ('CIDADE: ', 'CAMETA', ' - ESTADO: ', 'PA', ' - REGIÃO: ', 'NORTE'), ('NOME DA ESCOLA: ', 'E M E F DE ITANDUBA III', ' - CÓDIGO: ', 15068811), ('CIDADE: ', 'CAMETA', ' - ESTADO: ', 'PA', ' - REGIÃO: ', 'NORTE'), ('NOME DA ESCOLA: ', 'E M E F DE MATA GRANDE', ' - CÓDIGO: ', 15009220), ('CIDADE: ', 'MONTE ALEGRE', ' - ESTADO: ', 'PA', ' - REGIÃO: ', 'NORTE'), ('NOME DA ESCOLA: ', 'E M E F DE PACAJAI', ' - CÓDIGO: ', 15071707), ('CIDADE: ', 'CAMETA', ' - ESTADO: ', 'PA', ' - REGIÃO: ', 'NORTE'), ('NOME DA ESCOLA: ', 'E M E F DE PIRANOPAM', ' - CÓDIGO: ', 15067904), ('CIDADE: ', 'BAIAO', ' - ESTADO: ', 'PA', ' - REGIÃO: ', 'NORTE'), ('NOME DA ESCOLA: ', 'E M E F DE PORTO DO CAMPO', ' - CÓDIGO: ', 15069982), ('CIDADE: ', 'CAMETA', ' - ESTADO: ', 'PA', ' - REGIÃO: ', 'NORTE'), ('NOME DA ESCOLA: ', 'E M E F DE SANTA MARIA', ' - CÓDIGO: ', 15072665), ('CIDADE: ', 'CAMETA', ' - ESTADO: ', 'PA', ' - REGIÃO: ', 'NORTE'), ('NOME DA ESCOLA: ', 'E M E F DE TABATINGA DE CARAPAJO', ' - CÓDIGO: ', 15070727), ('CIDADE: ', 'CAMETA', ' - ESTADO: ', 'PA', ' - REGIÃO: ', 'NORTE'), ('NOME DA ESCOLA: ', 'E M E F DE VARZEA SAO JOSE', ' - CÓDIGO: ', 15069273), ('CIDADE: ', 'CAMETA', ' - ESTADO: ', 'PA', ' - REGIÃO: ', 'NORTE'), ('NOME DA ESCOLA: ', 'E M E F DEUS E GUIA', ' - CÓDIGO: ', 15121941), ('CIDADE: ', 'SAO FELIX DO XINGU', ' - ESTADO: ', 'PA', ' - REGIÃO: ', 'NORTE'), ('NOME DA ESCOLA: ', 'E M E F DO CAMUTA', ' - CÓDIGO: ', 15029484), ('CIDADE: ', 'CHAVES', ' - ESTADO: ', 'PA', ' - REGIÃO: ', 'NORTE'), ('NOME DA ESCOLA: ', 'E M E F DO VALERIO', ' - CÓDIGO: ', 15029522), ('CIDADE: ', 'CHAVES', ' - ESTADO: ', 'PA', ' - REGIÃO: ', 'NORTE'), ('NOME DA ESCOLA: ', 'E M E F DOM BOSCO', ' - CÓDIGO: ', 15094901), ('CIDADE: ', 'SAO DOMINGOS DO CAPIM', ' - ESTADO: ', 'PA', ' - REGIÃO: ', 'NORTE'), ('NOME DA ESCOLA: ', 'E M E F DOMINGOS BRABO', ' - CÓDIGO: ', 15031705), ('CIDADE: ', 'MUANA', ' - ESTADO: ', 'PA', ' - REGIÃO: ', 'NORTE'), ('NOME DA ESCOLA: ', 'E M E F DUQUE DE CAXIAS', ' - CÓDIGO: ', 15108210), ('CIDADE: ', 'PACAJA', ' - ESTADO: ', 'PA', ' - REGIÃO: ', 'NORTE'), ('NOME DA ESCOLA: ', 'E M E F EM CANOAS DE BAIXO', ' - CÓDIGO: ', 15576116), ('CIDADE: ', 'VISEU', ' - ESTADO: ', 'PA', ' - REGIÃO: ', 'NORTE'), ('NOME DA ESCOLA: ', 'E M E F EM CUMARU ITAPURITEUA', ' - CÓDIGO: ', 15097773), ('CIDADE: ', 'VISEU', ' - ESTADO: ', 'PA', ' - REGIÃO: ', 'NORTE'), ('NOME DA ESCOLA: ', 'E M E F EM GEMEDOR', ' - CÓDIGO: ', 15576183), ('CIDADE: ', 'VISEU', ' - ESTADO: ', 'PA', ' - REGIÃO: ', 'NORTE'), ('NOME DA ESCOLA: ', 'E M E F EM JACAMIM', ' - CÓDIGO: ', 15153576), ('CIDADE: ', 'VISEU', ' - ESTADO: ', 'PA', ' - REGIÃO: ', 'NORTE'), ('NOME DA ESCOLA: ', 'E M E F EM JIBOIA', ' - CÓDIGO: ', 15098362), ('CIDADE: ', 'VISEU', ' - ESTADO: ', 'PA', ' - REGIÃO: ', 'NORTE'), ('NOME DA ESCOLA: ', 'E M E F EM OLHO D AGUA', ' - CÓDIGO: ', 15097820), ('CIDADE: ', 'VISEU', ' - ESTADO: ', 'PA', ' - REGIÃO: ', 'NORTE'), ('NOME DA ESCOLA: ', 'E M E F EM SETE BARRACAS', ' - CÓDIGO: ', 15153681), ('CIDADE: ', 'VISEU', ' - ESTADO: ', 'PA', ' - REGIÃO: ', 'NORTE'), ('NOME DA ESCOLA: ', 'E M E F ESPERANCA', ' - CÓDIGO: ', 15033449), ('CIDADE: ', 'SANTA CRUZ DO ARARI', ' - ESTADO: ', 'PA', ' - REGIÃO: ', 'NORTE'), ('NOME DA ESCOLA: ', 'E M E F ESPIRITO SANTO DO MARACU', ' - CÓDIGO: ', 15566161), ('CIDADE: ', 'CAMETA', ' - ESTADO: ', 'PA', ' - REGIÃO: ', 'NORTE'), ('NOME DA ESCOLA: ', 'E M E F ESTRELA D ALVA', ' - CÓDIGO: ', 15153932), ('CIDADE: ', 'RUROPOLIS', ' - ESTADO: ', 'PA', ' - REGIÃO: ', 'NORTE'), ('NOME DA ESCOLA: ', 'E M E F FE EM DEUS', ' - CÓDIGO: ', 15094936), ('CIDADE: ', 'SAO DOMINGOS DO CAPIM', ' - ESTADO: ', 'PA', ' - REGIÃO: ', 'NORTE'), ('NOME DA ESCOLA: ', 'E M E F FLEXAL', ' - CÓDIGO: ', 15541576), ('CIDADE: ', 'VISEU', ' - ESTADO: ', 'PA', ' - REGIÃO: ', 'NORTE'), ('NOME DA ESCOLA: ', 'E M E F FLORESTA', ' - CÓDIGO: ', 15110672), ('CIDADE: ', 'URUARA', ' - ESTADO: ', 'PA', ' - REGIÃO: ', 'NORTE'), ('NOME DA ESCOLA: ', 'E M E F FLORIANO PAIVA', ' - CÓDIGO: ', 15079163), ('CIDADE: ', 'ACARA', ' - ESTADO: ', 'PA', ' - REGIÃO: ', 'NORTE'), ('NOME DA ESCOLA: ', 'E M E F FOZ DO JARI', ' - CÓDIGO: ', 15094952), ('CIDADE: ', 'SAO DOMINGOS DO CAPIM', ' - ESTADO: ', 'PA', ' - REGIÃO: ', 'NORTE'), ('NOME DA ESCOLA: ', 'E M E F FUTURO DA CRIANCA', ' - CÓDIGO: ', 15158497), ('CIDADE: ', 'PACAJA', ' - ESTADO: ', 'PA', ' - REGIÃO: ', 'NORTE'), ('NOME DA ESCOLA: ', 'E M E F GETULIO VARGAS', ' - CÓDIGO: ', 15122042), ('CIDADE: ', 'SAO FELIX DO XINGU', ' - ESTADO: ', 'PA', ' - REGIÃO: ', 'NORTE'), ('NOME DA ESCOLA: ', 'E M E F GUIMARAES ROSA', ' - CÓDIGO: ', 15148521), ('CIDADE: ', 'OEIRAS DO PARA', ' - ESTADO: ', 'PA', ' - REGIÃO: ', 'NORTE'), ('NOME DA ESCOLA: ', 'E M E F IGARAPE DO ANTA I', ' - CÓDIGO: ', 15097781), ('CIDADE: ', 'MONTE ALEGRE', ' - ESTADO: ', 'PA', ' - REGIÃO: ', 'NORTE'), ('NOME DA ESCOLA: ', 'E M E F ILHA GAMA', ' - CÓDIGO: ', 15070891), ('CIDADE: ', 'CAMETA', ' - ESTADO: ', 'PA', ' - REGIÃO: ', 'NORTE'), ('NOME DA ESCOLA: ', 'E M E F ITAPAIUNA', ' - CÓDIGO: ', 15547841), ('CIDADE: ', 'CACHOEIRA DO PIRIA', ' - ESTADO: ', 'PA', ' - REGIÃO: ', 'NORTE'), ('NOME DA ESCOLA: ', 'E M E F ITAPAIUNA II', ' - CÓDIGO: ', 15561917), ('CIDADE: ', 'CACHOEIRA DO PIRIA', ' - ESTADO: ', 'PA', ' - REGIÃO: ', 'NORTE'), ('NOME DA ESCOLA: ', 'E M E F IVENS RODRIGUES FERREIRA DA COSTA', ' - CÓDIGO: ', 15531104), ('CIDADE: ', 'CAMETA', ' - ESTADO: ', 'PA', ' - REGIÃO: ', 'NORTE'), ('NOME DA ESCOLA: ', 'E M E F JADER BARBALHO', ' - CÓDIGO: ', 15124991), ('CIDADE: ', 'ELDORADO DOS CARAJAS', ' - ESTADO: ', 'PA', ' - REGIÃO: ', 'NORTE'), ('NOME DA ESCOLA: ', 'E M E F JESUS E POR NOS', ' - CÓDIGO: ', 15578933), ('CIDADE: ', 'SAO DOMINGOS DO CAPIM', ' - ESTADO: ', 'PA', ' - REGIÃO: ', 'NORTE'), ('NOME DA ESCOLA: ', 'E M E F JOAO DA SILVA LOBO', ' - CÓDIGO: ', 15094995), ('CIDADE: ', 'SAO DOMINGOS DO CAPIM', ' - ESTADO: ', 'PA', ' - REGIÃO: ', 'NORTE'), ('NOME DA ESCOLA: ', 'E M E F JOAQUIM JOSE DA SILVA XAVIER', ' - CÓDIGO: ', 15089770), ('CIDADE: ', 'GARRAFAO DO NORTE', ' - ESTADO: ', 'PA', ' - REGIÃO: ', 'NORTE'), ('NOME DA ESCOLA: ', 'E M E F JOSE BELO', ' - CÓDIGO: ', 15560406), ('CIDADE: ', 'MUANA', ' - ESTADO: ', 'PA', ' - REGIÃO: ', 'NORTE'), ('NOME DA ESCOLA: ', 'E M E F JOSE DE ALENCAR', ' - CÓDIGO: ', 15158063), ('CIDADE: ', 'NOVA ESPERANCA DO PIRIA', ' - ESTADO: ', 'PA', ' - REGIÃO: ', 'NORTE'), ('NOME DA ESCOLA: ', 'E M E F JOSE NOGUEIRA DA SILVA', ' - CÓDIGO: ', 15130100), ('CIDADE: ', 'SAO DOMINGOS DO ARAGUAIA', ' - ESTADO: ', 'PA', ' - REGIÃO: ', 'NORTE'), ('NOME DA ESCOLA: ', 'E M E F JUARERAMANHA', ' - CÓDIGO: ', 15547698), ('CIDADE: ', 'CAMETA', ' - ESTADO: ', 'PA', ' - REGIÃO: ', 'NORTE'), ('NOME DA ESCOLA: ', 'E M E F LAVRADORES AMIGOS', ' - CÓDIGO: ', 15580024), ('CIDADE: ', 'SAO FELIX DO XINGU', ' - ESTADO: ', 'PA', ' - REGIÃO: ', 'NORTE'), ('NOME DA ESCOLA: ', 'E M E F LINHA CENTRAL', ' - CÓDIGO: ', 15008673), ('CIDADE: ', 'MONTE ALEGRE', ' - ESTADO: ', 'PA', ' - REGIÃO: ', 'NORTE'), ('NOME DA ESCOLA: ', 'E M E F LINHA CENTRAL II', ' - CÓDIGO: ', 15008681), ('CIDADE: ', 'MONTE ALEGRE', ' - ESTADO: ', 'PA', ' - REGIÃO: ', 'NORTE'), ('NOME DA ESCOLA: ', 'E M E F LOURIVAL CAMARAO', ' - CÓDIGO: ', 15518930), ('CIDADE: ', 'SAO SEBASTIAO DA BOA VISTA', ' - ESTADO: ', 'PA', ' - REGIÃO: ', 'NORTE'), ('NOME DA ESCOLA: ', 'E M E F LUZIA DO CIRIRI', ' - CÓDIGO: ', 15087980), ('CIDADE: ', 'AURORA DO PARA', ' - ESTADO: ', 'PA', ' - REGIÃO: ', 'NORTE'), ('NOME DA ESCOLA: ', 'E M E F MANOEL GONCALVES II', ' - CÓDIGO: ', 15079350), ('CIDADE: ', 'ACARA', ' - ESTADO: ', 'PA', ' - REGIÃO: ', 'NORTE'), ('NOME DA ESCOLA: ', 'E M E F MANUEL BANDEIRA', ' - CÓDIGO: ', 15575586), ('CIDADE: ', 'RUROPOLIS', ' - ESTADO: ', 'PA', ' - REGIÃO: ', 'NORTE'), ('NOME DA ESCOLA: ', 'E M E F MARIA ALVES SANTANA', ' - CÓDIGO: ', 15575535), ('CIDADE: ', 'RUROPOLIS', ' - ESTADO: ', 'PA', ' - REGIÃO: ', 'NORTE'), ('NOME DA ESCOLA: ', 'E M E F MARIA AMELIA', ' - CÓDIGO: ', 15115461), ('CIDADE: ', 'NOVO REPARTIMENTO', ' - ESTADO: ', 'PA', ' - REGIÃO: ', 'NORTE'), ('NOME DA ESCOLA: ', 'E M E F MARIA DE NAZARE II', ' - CÓDIGO: ', 15078183), ('CIDADE: ', 'ACARA', ' - ESTADO: ', 'PA', ' - REGIÃO: ', 'NORTE')]\n"
          ],
          "name": "stdout"
        }
      ]
    },
    {
      "cell_type": "code",
      "metadata": {
        "id": "2Iu5L3BXMDc0",
        "colab_type": "code",
        "colab": {}
      },
      "source": [
        ""
      ],
      "execution_count": 0,
      "outputs": []
    }
  ]
}