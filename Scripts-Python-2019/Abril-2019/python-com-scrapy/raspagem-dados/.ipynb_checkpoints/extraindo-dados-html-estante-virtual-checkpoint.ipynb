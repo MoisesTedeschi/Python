{
 "cells": [
  {
   "cell_type": "code",
   "execution_count": 17,
   "metadata": {},
   "outputs": [],
   "source": [
    "\"\"\"\n",
    "Raspagem de dados - Extraindo dados de HTML \n",
    "Created: 16/04/2019\n",
    "@author: Moisés Tedeschi\n",
    "\"\"\"\n",
    "\n",
    "import requests, bs4\n",
    "\n",
    "res = requests.get('https://www.estantevirtual.com.br')"
   ]
  },
  {
   "cell_type": "code",
   "execution_count": 23,
   "metadata": {},
   "outputs": [
    {
     "name": "stdout",
     "output_type": "stream",
     "text": [
      "Tamanho do arquivo: 240269\n",
      "Total de autores nessa página: 57\n",
      "Primeiro autor da lista: Robert Louis Stevenson\n"
     ]
    }
   ],
   "source": [
    "try:\n",
    "    res.raise_for_status()\n",
    "    \n",
    "    # Chamando o construtor do BeautifulSoup\n",
    "    objectSoup = bs4.BeautifulSoup(res.text, features=\"lxml\")\n",
    "    \n",
    "    print(f\"Tamanho do arquivo: {str(len(res.text))}\")\n",
    "    # print(f\"Conteúdo da Raspagem\\n {res.text}\")\n",
    "    listTitle = objectSoup.select('.authors')\n",
    "    print(f\"Total de autores nessa página: {str(len(listTitle))}\")\n",
    "    print(f\"Primeiro autor da lista: {listTitle[0].getText()}\")\n",
    "    \n",
    "    litarParagrafos = objectSoup.select('p')\n",
    "    print(f\"Número de paragrafos: {str(len(litarParagrafos))}\")\n",
    "    \n",
    "    for listarparagrafo in litarParagrafos:\n",
    "        print(listarparagrafo.getText())\n",
    "    \n",
    "except Exception as exc:\n",
    "    print(f'Houve um erro: {exc}')"
   ]
  },
  {
   "cell_type": "code",
   "execution_count": null,
   "metadata": {},
   "outputs": [],
   "source": []
  }
 ],
 "metadata": {
  "kernelspec": {
   "display_name": "Python 3",
   "language": "python",
   "name": "python3"
  },
  "language_info": {
   "codemirror_mode": {
    "name": "ipython",
    "version": 3
   },
   "file_extension": ".py",
   "mimetype": "text/x-python",
   "name": "python",
   "nbconvert_exporter": "python",
   "pygments_lexer": "ipython3",
   "version": "3.7.1"
  }
 },
 "nbformat": 4,
 "nbformat_minor": 2
}
