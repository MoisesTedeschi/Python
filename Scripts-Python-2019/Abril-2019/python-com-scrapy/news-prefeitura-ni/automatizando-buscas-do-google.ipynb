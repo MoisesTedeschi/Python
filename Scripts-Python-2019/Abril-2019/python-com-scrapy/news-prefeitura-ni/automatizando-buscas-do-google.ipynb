{
 "cells": [
  {
   "cell_type": "code",
   "execution_count": 2,
   "metadata": {},
   "outputs": [],
   "source": [
    "\"\"\"\n",
    "Raspagem de dados - Extraindo dados de HTML Site Estante Virtual\n",
    "Created: 16/04/2019\n",
    "@author: Moisés Tedeschi\n",
    "\"\"\"\n",
    "\n",
    "import requests, webbrowser, bs4"
   ]
  },
  {
   "cell_type": "code",
   "execution_count": 3,
   "metadata": {},
   "outputs": [
    {
     "name": "stdout",
     "output_type": "stream",
     "text": [
      "Digite algo a ser buscado: \n",
      "12\n",
      "Buscando os termos: 12\n"
     ]
    }
   ],
   "source": [
    "print(\"Digite algo a ser buscado: \")\n",
    "termoBuscados = input()\n",
    "\n",
    "print(f\"Buscando os termos: {termoBuscados}\")\n",
    "\n",
    "# Iniciando o processo de busca utilizando o buscados do Google.\n",
    "res = requests.get('http://www.google.com/search?q=' + termoBuscados)\n",
    "\n",
    "# Verificando se a requisição foi bem-sucedida.\n",
    "res.raise_for_status()"
   ]
  },
  {
   "cell_type": "code",
   "execution_count": null,
   "metadata": {},
   "outputs": [],
   "source": []
  }
 ],
 "metadata": {
  "kernelspec": {
   "display_name": "Python 3",
   "language": "python",
   "name": "python3"
  },
  "language_info": {
   "codemirror_mode": {
    "name": "ipython",
    "version": 3
   },
   "file_extension": ".py",
   "mimetype": "text/x-python",
   "name": "python",
   "nbconvert_exporter": "python",
   "pygments_lexer": "ipython3",
   "version": "3.7.1"
  }
 },
 "nbformat": 4,
 "nbformat_minor": 2
}
