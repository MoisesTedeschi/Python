{
 "cells": [
  {
   "cell_type": "code",
   "execution_count": 1,
   "metadata": {},
   "outputs": [
    {
     "name": "stdout",
     "output_type": "stream",
     "text": [
      "{'moises.tedeschi@esporte.gov.br', 'eu@mesmo'}\n",
      "{'moatedeschi@gmail.com', 'moisestedeschi@gmail.com'}\n"
     ]
    }
   ],
   "source": [
    "\"\"\"\n",
    "Aplicando teoria dos conjuntos em listas de emails com Python\n",
    "Created: 16/04/2019\n",
    "@author: Moisés Tedeschi\n",
    "\"\"\"\n",
    "\n",
    "lista1 = [\"eu@mesmo\", \"moisestedeschi@gmail.com\",\"moatedeschi@gmail.com\", \"moises.tedeschi@esporte.gov.br\"]\n",
    "lista2 = [\"eu@mesmo\", \"jamesperis@gmail.com\", \"moises.tedeschi@esporte.gov.br\"]\n",
    "\n",
    "print (set(lista1).intersection(lista2))\n",
    "# Resultado de saída da intersecção entre dois conjuntos (listas de email) é:\n",
    "# {'moises.tedeschi@esporte.gov.br', 'eu@mesmo'}\n",
    "\n",
    "print (set(lista1).difference(lista2))\n",
    "# Resultado de saída da diferença entre os conjuntos é:\n",
    "# {'moatedeschi@gmail.com', 'moisestedeschi@gmail.com'}"
   ]
  },
  {
   "cell_type": "code",
   "execution_count": null,
   "metadata": {},
   "outputs": [],
   "source": []
  }
 ],
 "metadata": {
  "kernelspec": {
   "display_name": "Python 3",
   "language": "python",
   "name": "python3"
  },
  "language_info": {
   "codemirror_mode": {
    "name": "ipython",
    "version": 3
   },
   "file_extension": ".py",
   "mimetype": "text/x-python",
   "name": "python",
   "nbconvert_exporter": "python",
   "pygments_lexer": "ipython3",
   "version": "3.7.1"
  }
 },
 "nbformat": 4,
 "nbformat_minor": 2
}
