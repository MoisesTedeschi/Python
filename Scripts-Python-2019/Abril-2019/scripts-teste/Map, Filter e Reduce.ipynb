{
 "cells": [
  {
   "cell_type": "markdown",
   "metadata": {},
   "source": [
    "# Função Map\n",
    "\n",
    "A função **map** é utilizada quando queremos aplicar uma função a um ou mais objetos iteráveis.\n",
    "\n",
    "Permite economizar muitas linhas de códigos e melhorar a legibilidade do programa.\n",
    "\n",
    "List comprehension são mais legiveis, porém utilizar map é mais rápido.\n",
    "\n",
    "Exemplo 1: Calcular o tamanho de vários strings dentro de uma lista e colocar o resultado em outra lista."
   ]
  },
  {
   "cell_type": "code",
   "execution_count": 2,
   "metadata": {},
   "outputs": [
    {
     "name": "stdout",
     "output_type": "stream",
     "text": [
      "[8, 4, 8, 4, 5]\n",
      "[8, 4, 8, 4, 5]\n",
      "[8, 4, 8, 4, 5]\n"
     ]
    }
   ],
   "source": [
    "lista = ['cachorro','gato','papagaio','leao','tigre']\n",
    "\n",
    "# Maneira convencional\n",
    "tamanho = []\n",
    "for item in lista:\n",
    "    tamanho.append(len(item))\n",
    "print(tamanho)\n",
    "# Utilizando map\n",
    "tamanho = list( map (len,lista) )\n",
    "print(tamanho)\n",
    "# List Comprehension\n",
    "tamanho = [len(item) for item in lista]\n",
    "print(tamanho)"
   ]
  },
  {
   "cell_type": "code",
   "execution_count": 3,
   "metadata": {},
   "outputs": [],
   "source": [
    "import time\n",
    "lista = list(range(10000000))"
   ]
  },
  {
   "cell_type": "code",
   "execution_count": 4,
   "metadata": {},
   "outputs": [
    {
     "name": "stdout",
     "output_type": "stream",
     "text": [
      "0.5221083164215088\n"
     ]
    }
   ],
   "source": [
    "inicio = time.time()\n",
    "tamanho1 = list(map (abs,lista))\n",
    "print(time.time()-inicio)"
   ]
  },
  {
   "cell_type": "code",
   "execution_count": 6,
   "metadata": {},
   "outputs": [
    {
     "name": "stdout",
     "output_type": "stream",
     "text": [
      "0.04701066017150879\n"
     ]
    }
   ],
   "source": [
    "inicio = time.time()\n",
    "tamanho1 = map (abs,lista)\n",
    "print(time.time()-inicio)"
   ]
  },
  {
   "cell_type": "code",
   "execution_count": 5,
   "metadata": {},
   "outputs": [
    {
     "name": "stdout",
     "output_type": "stream",
     "text": [
      "0.7641830444335938\n"
     ]
    }
   ],
   "source": [
    "inicio = time.time()\n",
    "tamanho2 = [abs(item) for item in lista]\n",
    "print(time.time()-inicio)"
   ]
  },
  {
   "cell_type": "markdown",
   "metadata": {},
   "source": [
    "Exemplo 2: Somar os elementos de 2 listas, que se forem de tamanhos diferentes ignorar os elementos extras da maior lista."
   ]
  },
  {
   "cell_type": "code",
   "execution_count": 9,
   "metadata": {},
   "outputs": [
    {
     "name": "stdout",
     "output_type": "stream",
     "text": [
      "[11, 22, 33]\n",
      "[11, 22, 33]\n",
      "[11, 22, 33]\n",
      "[11, 22, 33]\n",
      "[11, 22, 33]\n"
     ]
    }
   ],
   "source": [
    "a = [1,2,3,4,5,6,7]\n",
    "b = [10,20,30]\n",
    "\n",
    "def somar2(x,y):\n",
    "    return x+y\n",
    "\n",
    "# Utilizando map\n",
    "soma = list( map( somar2, a , b) )\n",
    "print(soma)\n",
    "\n",
    "# Maneira convencional\n",
    "soma = []\n",
    "for i in range( min( len(a), len(b)) ):\n",
    "    soma.append(somar2(a[i],b[i]))\n",
    "print(soma)\n",
    "\n",
    "# Maneira 2\n",
    "soma = []\n",
    "i=0\n",
    "while True:\n",
    "    try:\n",
    "        soma.append(somar2(a[i],b[i]))\n",
    "        i+=1\n",
    "    except:\n",
    "        break\n",
    "print(soma)\n",
    "\n",
    "# Maneira 3\n",
    "soma=[]\n",
    "while a and b:\n",
    "    soma.append(somar2 (a.pop(0),b.pop(0)))\n",
    "print(soma)  \n",
    "\n",
    "a = [1,2,3,4,5,6,7]\n",
    "b = [10,20,30]\n",
    "# Maneira 4 ( sem alterar a lista original)\n",
    "soma=[]\n",
    "a1 = a.copy()\n",
    "b1 = b.copy()\n",
    "while a1 and b1:\n",
    "    soma.append(somar2 (a1.pop(0),b1.pop(0)))\n",
    "print(soma)    "
   ]
  },
  {
   "cell_type": "markdown",
   "metadata": {},
   "source": [
    "# Filter\n",
    "Retorna um iterador retornando os itens para as quais ao aplicar uma determinada função o resultado é verdadeiro.\n",
    "\n",
    "Se a função for **None** retorna os itens que são verdadeiros."
   ]
  },
  {
   "cell_type": "code",
   "execution_count": 14,
   "metadata": {},
   "outputs": [
    {
     "name": "stdout",
     "output_type": "stream",
     "text": [
      "[60, 41, 66, 16, 21, 74, 88, 13, 54, 10, 31]\n",
      "[60, 66, 16, 74, 88, 54, 10]\n",
      "[60, 66, 16, 74, 88, 54, 10]\n",
      "[60, 66, 16, 74, 88, 54, 10]\n"
     ]
    }
   ],
   "source": [
    "import random\n",
    "\n",
    "lista = [random.randint(0,99) for i in range(11)]\n",
    "print(lista)\n",
    "\n",
    "def par(x):\n",
    "    return x%2 == 0\n",
    "\n",
    "lista_filtrada = list (filter (par,lista) )\n",
    "print(lista_filtrada)\n",
    "\n",
    "lista_filtrada = list (filter (lambda x: x%2==0 , lista) )\n",
    "print(lista_filtrada)\n",
    "\n",
    "lista_filtrada = [x for x in lista if x%2 == 0 ]\n",
    "print(lista_filtrada)"
   ]
  },
  {
   "cell_type": "markdown",
   "metadata": {},
   "source": [
    "## Combinando Map e Filter\n",
    "\n",
    "Como em outros casos em Python podemos reunir várias funções de modo a construir códigos mais concisos e legíveis.\n",
    "\n",
    "Exemplo: Calcular a raiz quadrada de vários números em uma lista que contenha também números negativos que devem ser ignorados (Embora existam apesar de não ser um número real)"
   ]
  },
  {
   "cell_type": "code",
   "execution_count": 16,
   "metadata": {},
   "outputs": [
    {
     "name": "stdout",
     "output_type": "stream",
     "text": [
      "[-37, -1, 35, 32, -47, -22, 6, 8, -12, 39, 3]\n",
      "[5.916079783099616, 5.656854249492381, 2.449489742783178, 2.8284271247461903, 6.244997998398398, 1.7320508075688772]\n",
      "[5.916079783099616, 5.656854249492381, 2.449489742783178, 2.8284271247461903, 6.244997998398398, 1.7320508075688772]\n"
     ]
    }
   ],
   "source": [
    "import random , math # math.sqrt(n) == n**0.5\n",
    "\n",
    "lista = [random.randint(-50,50) for i in range(11)]\n",
    "print(lista)\n",
    "\n",
    "lista_filtrada = list (map(math.sqrt, filter(lambda x:x>=0 ,lista)))\n",
    "print(lista_filtrada)\n",
    "\n",
    "listra_filtrada_convencional = [math.sqrt(x) for x in lista if x>=0]\n",
    "print(listra_filtrada_convencional)"
   ]
  },
  {
   "cell_type": "markdown",
   "metadata": {},
   "source": [
    "#  Reduce\n",
    "\n",
    "Reduce é uma função realmente útil para executar algum cálculo em uma lista e retornar o resultado. Ela aplica um cálculo ao longo de uma lista de pares em sequência.\n",
    "\n",
    "Exemplo: Calcular o produto de todos os números de uma lista"
   ]
  },
  {
   "cell_type": "code",
   "execution_count": 17,
   "metadata": {},
   "outputs": [
    {
     "name": "stdout",
     "output_type": "stream",
     "text": [
      "24\n",
      "24\n"
     ]
    }
   ],
   "source": [
    "# Jeito normal\n",
    "resultado = 1\n",
    "lista = [1, 2, 3, 4]\n",
    "for num in lista:\n",
    "    resultado *= num # resultado = resultado * num\n",
    "\n",
    "print(resultado)\n",
    "\n",
    "from functools import reduce\n",
    "resultado = reduce((lambda x, y: x * y), lista)\n",
    "print(resultado)"
   ]
  }
 ],
 "metadata": {
  "kernelspec": {
   "display_name": "Python 3",
   "language": "python",
   "name": "python3"
  },
  "language_info": {
   "codemirror_mode": {
    "name": "ipython",
    "version": 3
   },
   "file_extension": ".py",
   "mimetype": "text/x-python",
   "name": "python",
   "nbconvert_exporter": "python",
   "pygments_lexer": "ipython3",
   "version": "3.6.6"
  },
  "varInspector": {
   "cols": {
    "lenName": 16,
    "lenType": 16,
    "lenVar": 40
   },
   "kernels_config": {
    "python": {
     "delete_cmd_postfix": "",
     "delete_cmd_prefix": "del ",
     "library": "var_list.py",
     "varRefreshCmd": "print(var_dic_list())"
    },
    "r": {
     "delete_cmd_postfix": ") ",
     "delete_cmd_prefix": "rm(",
     "library": "var_list.r",
     "varRefreshCmd": "cat(var_dic_list()) "
    }
   },
   "types_to_exclude": [
    "module",
    "function",
    "builtin_function_or_method",
    "instance",
    "_Feature"
   ],
   "window_display": false
  }
 },
 "nbformat": 4,
 "nbformat_minor": 2
}
