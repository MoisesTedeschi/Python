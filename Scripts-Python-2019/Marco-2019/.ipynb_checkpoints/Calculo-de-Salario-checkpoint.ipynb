{
 "cells": [
  {
   "cell_type": "code",
   "execution_count": 2,
   "metadata": {},
   "outputs": [
    {
     "name": "stdout",
     "output_type": "stream",
     "text": [
      ":: Cálculo de Imposto de Renda com Aliquota ::\n",
      "Informe seu salário bruto: R$ 1000\n",
      "Imposto: R$  0.0\n",
      "Dedução: R$  0\n",
      "Salário Líquido: R$  1000.0\n",
      "O imposto percentual real é de: 0.00%\n"
     ]
    }
   ],
   "source": [
    "#Cálculo de Imposto de Renda\n",
    "print(\":: Cálculo de Imposto de Renda com Aliquota ::\")\n",
    "valor = float(input('Informe seu salário bruto: R$ '))\n",
    "\n",
    "if valor < 1903.98:\n",
    "    deducao = 0\n",
    "    imposto = valor * 0 / 100\n",
    "    \n",
    "elif valor >= 1903.98 and valor <= 2826.65:\n",
    "    deducao = 142.80\n",
    "    imposto = valor * 7.5 / 100\n",
    "    \n",
    "elif 2826.66 <= valor <= 3751.05:\n",
    "    deducao = 354.80\n",
    "    imposto = valor * 15 / 100\n",
    "    \n",
    "elif valor <= 4664.68:\n",
    "    deducao = 636.13\n",
    "    imposto = valor * 22 / 100\n",
    "    \n",
    "else:\n",
    "    deducao = 869.36\n",
    "    imposto = valor * 27.5 / 100\n",
    "\n",
    "salario_liquido = valor - imposto + deducao\n",
    "imposto_real = 100/100 - salario_liquido/valor\n",
    "\n",
    "print('Imposto: R$ ', imposto)\n",
    "print('Dedução: R$ ', deducao)\n",
    "\n",
    "print('Salário Líquido: R$ ', salario_liquido)\n",
    "print(f'O imposto percentual real é de: {imposto_real:.2%}')"
   ]
  },
  {
   "cell_type": "code",
   "execution_count": null,
   "metadata": {},
   "outputs": [],
   "source": []
  }
 ],
 "metadata": {
  "kernelspec": {
   "display_name": "Python 3",
   "language": "python",
   "name": "python3"
  },
  "language_info": {
   "codemirror_mode": {
    "name": "ipython",
    "version": 3
   },
   "file_extension": ".py",
   "mimetype": "text/x-python",
   "name": "python",
   "nbconvert_exporter": "python",
   "pygments_lexer": "ipython3",
   "version": "3.7.1"
  }
 },
 "nbformat": 4,
 "nbformat_minor": 2
}
