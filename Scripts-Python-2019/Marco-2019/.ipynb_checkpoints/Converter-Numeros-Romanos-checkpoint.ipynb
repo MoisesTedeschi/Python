{
 "cells": [
  {
   "cell_type": "code",
   "execution_count": 1,
   "metadata": {},
   "outputs": [
    {
     "name": "stdout",
     "output_type": "stream",
     "text": [
      "Número: 2599\n",
      "MMDXCIX\n"
     ]
    }
   ],
   "source": [
    "romanos = [(1000,'M'),(900,'CM'),(500,'D'),(400,'CD'),(100,'C'),\n",
    "          (90,'XC'),(50,'L'),(40,'XL'),(10,'X'),(9,'IX'),(5,'V'),\n",
    "          (4,'IV'),(1,'I')]\n",
    "\n",
    "numero = int(input('Número: '))\n",
    "if numero > 3999:\n",
    "    print('Número muito grande para representarmos!')\n",
    "else:\n",
    "    res = ''\n",
    "    while numero > 0:\n",
    "        # (n,s) \n",
    "        # n = Numeros e s = Strings - Os valores estão vindo em tublas\n",
    "        # Pares de valores\n",
    "        for (n,s) in romanos:\n",
    "            if numero >= n:\n",
    "                numero -= n\n",
    "                res += s\n",
    "                break\n",
    "    print(res)\n",
    "    \n",
    "#Exemplo de Fluxo - Exemplo\n",
    "\n",
    "#Entrada: 2599\n",
    "# 2599 - 1000 = 1599 (M)\n",
    "# 1599 - 1000 = 599 (M)\n",
    "# 599 - 500 = 99 (D)\n",
    "# 99 - 90 = 9 (XC)\n",
    "# 9 - 9 = 0 (IX)\n",
    "\n",
    "#Resultado de Saída: MMDXCIX"
   ]
  }
 ],
 "metadata": {
  "kernelspec": {
   "display_name": "Python 3",
   "language": "python",
   "name": "python3"
  },
  "language_info": {
   "codemirror_mode": {
    "name": "ipython",
    "version": 3
   },
   "file_extension": ".py",
   "mimetype": "text/x-python",
   "name": "python",
   "nbconvert_exporter": "python",
   "pygments_lexer": "ipython3",
   "version": "3.7.1"
  }
 },
 "nbformat": 4,
 "nbformat_minor": 2
}
