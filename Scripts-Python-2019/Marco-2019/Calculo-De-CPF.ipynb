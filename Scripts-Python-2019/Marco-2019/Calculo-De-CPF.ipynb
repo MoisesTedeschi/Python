{
 "cells": [
  {
   "cell_type": "code",
   "execution_count": null,
   "metadata": {},
   "outputs": [],
   "source": [
    "# Exemplo: Cálculo do CPF\n",
    "Seja o CPF escrito da forma ABC.DEF.GHI-JK\n",
    "\n",
    "Temos que J e K são respectivamente o primeiro e segundo dígito verificador.\n",
    "\n",
    "## Primeiro dígito\n",
    "Calcular a soma: 10A + 9B + 8C + 7D + 6E + 5F + 4G + 3H + 2I e dividir o resultado por 11.\n",
    "\n",
    "Se o resto for 0 ou 1: o dígito será 0\n",
    "\n",
    "Caso contrário o dígito J será (11 - resto)\n",
    "\n",
    "## Segundo dígito\n",
    "Realizamos um procedimento parecido com o do primeiro dígito, porém calculamos a soma de:\n",
    "\n",
    "11A + 10B + 9C + 8D + 7E + 6F + 5G + 4H + 3I + 2J e dividimos o resultado por 11.\n",
    "\n",
    "Se o resto for 0 ou 1: o dígito será 0\n",
    "\n",
    "Caso contrário o dígito K será (11 - resto)"
   ]
  },
  {
   "cell_type": "code",
   "execution_count": 7,
   "metadata": {},
   "outputs": [
    {
     "name": "stdout",
     "output_type": "stream",
     "text": [
      "Dois últimos digitos do CPF: 7 8\n"
     ]
    }
   ],
   "source": [
    "#CPF Base: 172.328.060-78\n",
    "\n",
    "cpf = '172.328.060'\n",
    "pesos = list(range(2,11))[::-1]\n",
    "cpf_digits = []\n",
    "for d in cpf:\n",
    "    if d.isdigit():\n",
    "        cpf_digits.append(int(d))\n",
    "\n",
    "soma=0\n",
    "for i in range(len(cpf_digits)):\n",
    "    soma += cpf_digits[i]*pesos[i]\n",
    "resto = soma % 11\n",
    "\n",
    "if resto in [0,1]:\n",
    "    J= 0\n",
    "else:\n",
    "    J = 11 - resto\n",
    "\n",
    "cpf_digits.append(J)\n",
    "\n",
    "pesos = list(range(2,12))[::-1]\n",
    "soma=0\n",
    "for i in range(len(cpf_digits)):\n",
    "    soma += cpf_digits[i]*pesos[i]\n",
    "resto = soma % 11\n",
    "K = 0 if resto in [0,1] else 11-resto\n",
    "\n",
    "print('Dois últimos digitos do CPF:', J,K)"
   ]
  }
 ],
 "metadata": {
  "kernelspec": {
   "display_name": "Python 3",
   "language": "python",
   "name": "python3"
  },
  "language_info": {
   "codemirror_mode": {
    "name": "ipython",
    "version": 3
   },
   "file_extension": ".py",
   "mimetype": "text/x-python",
   "name": "python",
   "nbconvert_exporter": "python",
   "pygments_lexer": "ipython3",
   "version": "3.7.1"
  }
 },
 "nbformat": 4,
 "nbformat_minor": 2
}
